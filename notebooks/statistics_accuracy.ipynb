{
 "cells": [
  {
   "cell_type": "code",
   "execution_count": 1,
   "metadata": {},
   "outputs": [],
   "source": [
    "import os\n",
    "import sys \n",
    "\n",
    "current_dir = os.getcwd()\n",
    "parent_dir = os.path.dirname(current_dir)\n",
    "sys.path.insert(0, parent_dir)"
   ]
  },
  {
   "cell_type": "code",
   "execution_count": 2,
   "metadata": {},
   "outputs": [],
   "source": [
    "import pandas as pd\n",
    "import statsmodels.api as sm\n",
    "import statsmodels.formula.api as smf\n",
    "\n",
    "import matplotlib.pyplot as plt\n",
    "\n",
    "from src.stat_utils import *"
   ]
  },
  {
   "cell_type": "code",
   "execution_count": 3,
   "metadata": {},
   "outputs": [],
   "source": [
    "data_path = '../data/'\n",
    "experimental_data = pd.read_csv(data_path + 'experimental_data.csv')"
   ]
  },
  {
   "cell_type": "code",
   "execution_count": 4,
   "metadata": {},
   "outputs": [],
   "source": [
    "# define distribution and covariance structure for GEE\n",
    "family = sm.families.Binomial()\n",
    "covariance_structure = sm.cov_struct.Autoregressive(grid=True)"
   ]
  },
  {
   "cell_type": "markdown",
   "metadata": {},
   "source": [
    "#### Generalized Estimating Equations (GEE)\n",
    "##### Full Model"
   ]
  },
  {
   "cell_type": "code",
   "execution_count": 5,
   "metadata": {},
   "outputs": [
    {
     "name": "stdout",
     "output_type": "stream",
     "text": [
      "                               GEE Regression Results                              \n",
      "===================================================================================\n",
      "Dep. Variable:                     Correct   No. Observations:                48000\n",
      "Model:                                 GEE   No. clusters:                        8\n",
      "Method:                        Generalized   Min. cluster size:                6000\n",
      "                      Estimating Equations   Max. cluster size:                6000\n",
      "Family:                           Binomial   Mean cluster size:              6000.0\n",
      "Dependence structure:       Autoregressive   Num. iterations:                     5\n",
      "Date:                     Thu, 23 Nov 2023   Scale:                           1.000\n",
      "Covariance type:                    robust   Time:                         15:44:53\n",
      "===================================================================================================\n",
      "                                      coef    std err          z      P>|z|      [0.025      0.975]\n",
      "---------------------------------------------------------------------------------------------------\n",
      "Intercept                           2.9204      0.440      6.640      0.000       2.058       3.782\n",
      "ContrastHeterogeneity              -1.4449      0.297     -4.864      0.000      -2.027      -0.863\n",
      "GridCoarseness                     -1.2040      0.179     -6.714      0.000      -1.555      -0.853\n",
      "SessionID                           0.1790      0.039      4.581      0.000       0.102       0.256\n",
      "SessionID:ContrastHeterogeneity    -0.2105      0.031     -6.817      0.000      -0.271      -0.150\n",
      "SessionID:GridCoarseness            0.0105      0.034      0.309      0.757      -0.056       0.077\n",
      "==============================================================================\n",
      "Skew:                         -0.7293   Kurtosis:                      -0.8259\n",
      "Centered skew:                -0.6807   Centered kurtosis:             -0.8269\n",
      "==============================================================================\n",
      "\n",
      "\n",
      "\n",
      "Wald Chi-Square:\n",
      "+---------------------------------+---------------------+------------------------+\n",
      "|             Variable            |      Chi-Square     |        p-value         |\n",
      "+---------------------------------+---------------------+------------------------+\n",
      "|            Intercept            |  44.09498601410714  | 3.128212134464354e-11  |\n",
      "|      ContrastHeterogeneity      |  23.656739040853648 | 1.1514198806159744e-06 |\n",
      "|          GridCoarseness         |  45.07999729225452  | 1.8914757118303448e-11 |\n",
      "|            SessionID            |  20.98538214272905  | 4.628010472474377e-06  |\n",
      "| SessionID:ContrastHeterogeneity |  46.47125229801915  |  9.2972494829614e-12   |\n",
      "|     SessionID:GridCoarseness    | 0.09555628776571773 |   0.7572288761007893   |\n",
      "+---------------------------------+---------------------+------------------------+\n"
     ]
    }
   ],
   "source": [
    "# ignore transfer (final) session\n",
    "data = experimental_data[experimental_data['SessionID'] != 9]\n",
    "\n",
    "# fit model\n",
    "model = smf.gee(\"Correct ~ ContrastHeterogeneity + GridCoarseness + SessionID + SessionID*ContrastHeterogeneity + SessionID*GridCoarseness\", \"SubjectID\", data, cov_struct=covariance_structure, family=family)\n",
    "results = model.fit()\n",
    "\n",
    "# print results\n",
    "print(results.summary())\n",
    "print('\\n\\n')\n",
    "print_wald_chi_square(results)"
   ]
  },
  {
   "cell_type": "markdown",
   "metadata": {},
   "source": [
    "##### Simple Effects\n",
    "Session 1"
   ]
  },
  {
   "cell_type": "code",
   "execution_count": 18,
   "metadata": {},
   "outputs": [
    {
     "name": "stdout",
     "output_type": "stream",
     "text": [
      "                               GEE Regression Results                              \n",
      "===================================================================================\n",
      "Dep. Variable:                     Correct   No. Observations:                 6000\n",
      "Model:                                 GEE   No. clusters:                        8\n",
      "Method:                        Generalized   Min. cluster size:                 750\n",
      "                      Estimating Equations   Max. cluster size:                 750\n",
      "Family:                           Binomial   Mean cluster size:               750.0\n",
      "Dependence structure:       Autoregressive   Num. iterations:                     4\n",
      "Date:                     Thu, 23 Nov 2023   Scale:                           1.000\n",
      "Covariance type:                    robust   Time:                         15:55:56\n",
      "=========================================================================================\n",
      "                            coef    std err          z      P>|z|      [0.025      0.975]\n",
      "-----------------------------------------------------------------------------------------\n",
      "Intercept                 1.3686      0.264      5.178      0.000       0.851       1.887\n",
      "ContrastHeterogeneity    -1.4568      0.286     -5.092      0.000      -2.018      -0.896\n",
      "==============================================================================\n",
      "Skew:                         -0.5536   Kurtosis:                      -1.4443\n",
      "Centered skew:                -0.5141   Centered kurtosis:             -1.4060\n",
      "==============================================================================\n",
      "\n",
      "\n",
      "\n",
      "Wald Chi-Square:\n",
      "+-----------------------+--------------------+------------------------+\n",
      "|        Variable       |     Chi-Square     |        p-value         |\n",
      "+-----------------------+--------------------+------------------------+\n",
      "|       Intercept       | 26.81624672533115  | 2.2374832923151046e-07 |\n",
      "| ContrastHeterogeneity | 25.929093113090833 | 3.541906563073527e-07  |\n",
      "+-----------------------+--------------------+------------------------+\n"
     ]
    },
    {
     "name": "stderr",
     "output_type": "stream",
     "text": [
      "/home/mario/miniconda3/envs/kuramoto_env/lib/python3.12/site-packages/statsmodels/base/model.py:1906: FutureWarning: The behavior of wald_test will change after 0.14 to returning scalar test statistic values. To get the future behavior now, set scalar to True. To silence this message while retaining the legacy behavior, set scalar to False.\n",
      "  warnings.warn(\n"
     ]
    },
    {
     "data": {
      "text/plain": [
       "<class 'statsmodels.stats.contrast.WaldTestResults'>\n",
       "                                         chi2                  P>chi2  df constraint\n",
       "Intercept               [[26.81624672533115]]  2.2374832923151046e-07              1\n",
       "ContrastHeterogeneity  [[25.929093113090833]]   3.541906563073527e-07              1"
      ]
     },
     "execution_count": 18,
     "metadata": {},
     "output_type": "execute_result"
    }
   ],
   "source": [
    "# select session\n",
    "session_data = experimental_data[experimental_data['SessionID'] == 1]\n",
    "\n",
    "# fit model\n",
    "model = smf.gee(\"Correct ~ ContrastHeterogeneity\", \"SubjectID\", session_data, cov_struct=covariance_structure, family=family)\n",
    "results = model.fit()\n",
    "\n",
    "# print results\n",
    "print(results.summary())\n",
    "print('\\n\\n')\n",
    "print_wald_chi_square(results)"
   ]
  },
  {
   "cell_type": "markdown",
   "metadata": {},
   "source": [
    "##### Session 2"
   ]
  },
  {
   "cell_type": "code",
   "execution_count": 7,
   "metadata": {},
   "outputs": [
    {
     "name": "stdout",
     "output_type": "stream",
     "text": [
      "                               GEE Regression Results                              \n",
      "===================================================================================\n",
      "Dep. Variable:                     Correct   No. Observations:                 6000\n",
      "Model:                                 GEE   No. clusters:                        8\n",
      "Method:                        Generalized   Min. cluster size:                 750\n",
      "                      Estimating Equations   Max. cluster size:                 750\n",
      "Family:                           Binomial   Mean cluster size:               750.0\n",
      "Dependence structure:       Autoregressive   Num. iterations:                     5\n",
      "Date:                     Thu, 09 Nov 2023   Scale:                           1.000\n",
      "Covariance type:                    robust   Time:                         17:28:45\n",
      "=========================================================================================\n",
      "                            coef    std err          z      P>|z|      [0.025      0.975]\n",
      "-----------------------------------------------------------------------------------------\n",
      "Intercept                 1.9408      0.336      5.783      0.000       1.283       2.599\n",
      "ContrastHeterogeneity    -1.9830      0.368     -5.395      0.000      -2.703      -1.263\n",
      "==============================================================================\n",
      "Skew:                         -0.7485   Kurtosis:                      -0.9923\n",
      "Centered skew:                -0.6967   Centered kurtosis:             -0.9709\n",
      "==============================================================================\n",
      "\n",
      "\n",
      "\n",
      "Wald Chi-Square:\n",
      "+-----------------------+--------------------+-----------------------+\n",
      "|        Variable       |     Chi-Square     |        p-value        |\n",
      "+-----------------------+--------------------+-----------------------+\n",
      "|       Intercept       | 33.448545975825596 | 7.317446253388652e-09 |\n",
      "| ContrastHeterogeneity | 29.10523467716379  | 6.855151132682417e-08 |\n",
      "+-----------------------+--------------------+-----------------------+\n"
     ]
    }
   ],
   "source": [
    "# select session\n",
    "session_data = experimental_data[experimental_data['SessionID'] == 2]\n",
    "\n",
    "# fit model\n",
    "model = smf.gee(\"Correct ~ ContrastHeterogeneity\", \"SubjectID\", session_data, cov_struct=covariance_structure, family=family)\n",
    "results = model.fit()\n",
    "\n",
    "# print results\n",
    "print(results.summary())\n",
    "print('\\n\\n')\n",
    "print_wald_chi_square(results)"
   ]
  },
  {
   "cell_type": "markdown",
   "metadata": {},
   "source": [
    "##### Session 3"
   ]
  },
  {
   "cell_type": "code",
   "execution_count": 8,
   "metadata": {},
   "outputs": [
    {
     "name": "stdout",
     "output_type": "stream",
     "text": [
      "                               GEE Regression Results                              \n",
      "===================================================================================\n",
      "Dep. Variable:                     Correct   No. Observations:                 6000\n",
      "Model:                                 GEE   No. clusters:                        8\n",
      "Method:                        Generalized   Min. cluster size:                 750\n",
      "                      Estimating Equations   Max. cluster size:                 750\n",
      "Family:                           Binomial   Mean cluster size:               750.0\n",
      "Dependence structure:       Autoregressive   Num. iterations:                     4\n",
      "Date:                     Thu, 09 Nov 2023   Scale:                           1.000\n",
      "Covariance type:                    robust   Time:                         17:28:45\n",
      "=========================================================================================\n",
      "                            coef    std err          z      P>|z|      [0.025      0.975]\n",
      "-----------------------------------------------------------------------------------------\n",
      "Intercept                 2.1601      0.301      7.179      0.000       1.570       2.750\n",
      "ContrastHeterogeneity    -2.2914      0.299     -7.663      0.000      -2.878      -1.705\n",
      "==============================================================================\n",
      "Skew:                         -0.7449   Kurtosis:                      -0.8645\n",
      "Centered skew:                -0.6938   Centered kurtosis:             -0.8497\n",
      "==============================================================================\n",
      "\n",
      "\n",
      "\n",
      "Wald Chi-Square:\n",
      "+-----------------------+--------------------+------------------------+\n",
      "|        Variable       |     Chi-Square     |        p-value         |\n",
      "+-----------------------+--------------------+------------------------+\n",
      "|       Intercept       | 51.536882650244245 | 7.026459112345919e-13  |\n",
      "| ContrastHeterogeneity | 58.71612159771216  | 1.8214293399949673e-14 |\n",
      "+-----------------------+--------------------+------------------------+\n"
     ]
    }
   ],
   "source": [
    "# select session\n",
    "session_data = experimental_data[experimental_data['SessionID'] == 3]\n",
    "\n",
    "# fit model\n",
    "model = smf.gee(\"Correct ~ ContrastHeterogeneity\", \"SubjectID\", session_data, cov_struct=covariance_structure, family=family)\n",
    "results = model.fit()\n",
    "\n",
    "# print results\n",
    "print(results.summary())\n",
    "print('\\n\\n')\n",
    "print_wald_chi_square(results)"
   ]
  },
  {
   "cell_type": "markdown",
   "metadata": {},
   "source": [
    "##### Session 4"
   ]
  },
  {
   "cell_type": "code",
   "execution_count": 9,
   "metadata": {},
   "outputs": [
    {
     "name": "stdout",
     "output_type": "stream",
     "text": [
      "                               GEE Regression Results                              \n",
      "===================================================================================\n",
      "Dep. Variable:                     Correct   No. Observations:                 6000\n",
      "Model:                                 GEE   No. clusters:                        8\n",
      "Method:                        Generalized   Min. cluster size:                 750\n",
      "                      Estimating Equations   Max. cluster size:                 750\n",
      "Family:                           Binomial   Mean cluster size:               750.0\n",
      "Dependence structure:       Autoregressive   Num. iterations:                     4\n",
      "Date:                     Thu, 09 Nov 2023   Scale:                           1.000\n",
      "Covariance type:                    robust   Time:                         17:28:45\n",
      "=========================================================================================\n",
      "                            coef    std err          z      P>|z|      [0.025      0.975]\n",
      "-----------------------------------------------------------------------------------------\n",
      "Intercept                 2.1708      0.337      6.444      0.000       1.511       2.831\n",
      "ContrastHeterogeneity    -2.2439      0.374     -5.994      0.000      -2.978      -1.510\n",
      "==============================================================================\n",
      "Skew:                         -0.7846   Kurtosis:                      -0.8246\n",
      "Centered skew:                -0.7330   Centered kurtosis:             -0.8269\n",
      "==============================================================================\n",
      "\n",
      "\n",
      "\n",
      "Wald Chi-Square:\n",
      "+-----------------------+--------------------+------------------------+\n",
      "|        Variable       |     Chi-Square     |        p-value         |\n",
      "+-----------------------+--------------------+------------------------+\n",
      "|       Intercept       | 41.51968443876569  | 1.1669003165377237e-10 |\n",
      "| ContrastHeterogeneity | 35.925564978998416 | 2.050011911470829e-09  |\n",
      "+-----------------------+--------------------+------------------------+\n"
     ]
    }
   ],
   "source": [
    "# select session\n",
    "session_data = experimental_data[experimental_data['SessionID'] == 4]\n",
    "\n",
    "# fit model\n",
    "model = smf.gee(\"Correct ~ ContrastHeterogeneity\", \"SubjectID\", session_data, cov_struct=covariance_structure, family=family)\n",
    "results = model.fit()\n",
    "\n",
    "# print results\n",
    "print(results.summary())\n",
    "print('\\n\\n')\n",
    "print_wald_chi_square(results)"
   ]
  },
  {
   "cell_type": "markdown",
   "metadata": {},
   "source": [
    "##### Session 5"
   ]
  },
  {
   "cell_type": "code",
   "execution_count": 10,
   "metadata": {},
   "outputs": [
    {
     "name": "stdout",
     "output_type": "stream",
     "text": [
      "                               GEE Regression Results                              \n",
      "===================================================================================\n",
      "Dep. Variable:                     Correct   No. Observations:                 6000\n",
      "Model:                                 GEE   No. clusters:                        8\n",
      "Method:                        Generalized   Min. cluster size:                 750\n",
      "                      Estimating Equations   Max. cluster size:                 750\n",
      "Family:                           Binomial   Mean cluster size:               750.0\n",
      "Dependence structure:       Autoregressive   Num. iterations:                     4\n",
      "Date:                     Thu, 09 Nov 2023   Scale:                           1.000\n",
      "Covariance type:                    robust   Time:                         17:28:45\n",
      "=========================================================================================\n",
      "                            coef    std err          z      P>|z|      [0.025      0.975]\n",
      "-----------------------------------------------------------------------------------------\n",
      "Intercept                 2.4108      0.456      5.287      0.000       1.517       3.305\n",
      "ContrastHeterogeneity    -2.4843      0.513     -4.839      0.000      -3.491      -1.478\n",
      "==============================================================================\n",
      "Skew:                         -0.8235   Kurtosis:                      -0.6535\n",
      "Centered skew:                -0.7410   Centered kurtosis:             -0.6801\n",
      "==============================================================================\n",
      "\n",
      "\n",
      "\n",
      "Wald Chi-Square:\n",
      "+-----------------------+--------------------+------------------------+\n",
      "|        Variable       |     Chi-Square     |        p-value         |\n",
      "+-----------------------+--------------------+------------------------+\n",
      "|       Intercept       | 27.947093389308503 | 1.2467809856000068e-07 |\n",
      "| ContrastHeterogeneity | 23.41414095317008  | 1.306148516398983e-06  |\n",
      "+-----------------------+--------------------+------------------------+\n"
     ]
    }
   ],
   "source": [
    "# select session\n",
    "session_data = experimental_data[experimental_data['SessionID'] == 5]\n",
    "\n",
    "# fit model\n",
    "model = smf.gee(\"Correct ~ ContrastHeterogeneity\", \"SubjectID\", session_data, cov_struct=covariance_structure, family=family)\n",
    "results = model.fit()\n",
    "\n",
    "# print results\n",
    "print(results.summary())\n",
    "print('\\n\\n')\n",
    "print_wald_chi_square(results)"
   ]
  },
  {
   "cell_type": "markdown",
   "metadata": {},
   "source": [
    "##### Session 6"
   ]
  },
  {
   "cell_type": "code",
   "execution_count": 11,
   "metadata": {},
   "outputs": [
    {
     "name": "stdout",
     "output_type": "stream",
     "text": [
      "                               GEE Regression Results                              \n",
      "===================================================================================\n",
      "Dep. Variable:                     Correct   No. Observations:                 6000\n",
      "Model:                                 GEE   No. clusters:                        8\n",
      "Method:                        Generalized   Min. cluster size:                 750\n",
      "                      Estimating Equations   Max. cluster size:                 750\n",
      "Family:                           Binomial   Mean cluster size:               750.0\n",
      "Dependence structure:       Autoregressive   Num. iterations:                     5\n",
      "Date:                     Thu, 09 Nov 2023   Scale:                           1.000\n",
      "Covariance type:                    robust   Time:                         17:28:46\n",
      "=========================================================================================\n",
      "                            coef    std err          z      P>|z|      [0.025      0.975]\n",
      "-----------------------------------------------------------------------------------------\n",
      "Intercept                 2.6448      0.402      6.585      0.000       1.858       3.432\n",
      "ContrastHeterogeneity    -2.7757      0.418     -6.642      0.000      -3.595      -1.957\n",
      "==============================================================================\n",
      "Skew:                         -0.8149   Kurtosis:                      -0.5265\n",
      "Centered skew:                -0.7441   Centered kurtosis:             -0.5565\n",
      "==============================================================================\n",
      "\n",
      "\n",
      "\n",
      "Wald Chi-Square:\n",
      "+-----------------------+-------------------+-----------------------+\n",
      "|        Variable       |     Chi-Square    |        p-value        |\n",
      "+-----------------------+-------------------+-----------------------+\n",
      "|       Intercept       | 43.36350941790358 | 4.545869005110495e-11 |\n",
      "| ContrastHeterogeneity | 44.11390323614726 | 3.098125786146237e-11 |\n",
      "+-----------------------+-------------------+-----------------------+\n"
     ]
    }
   ],
   "source": [
    "# select session\n",
    "session_data = experimental_data[experimental_data['SessionID'] == 6]\n",
    "\n",
    "# fit model\n",
    "model = smf.gee(\"Correct ~ ContrastHeterogeneity\", \"SubjectID\", session_data, cov_struct=covariance_structure, family=family)\n",
    "results = model.fit()\n",
    "\n",
    "# print results\n",
    "print(results.summary())\n",
    "print('\\n\\n')\n",
    "print_wald_chi_square(results)"
   ]
  },
  {
   "cell_type": "markdown",
   "metadata": {},
   "source": [
    "##### Session 7"
   ]
  },
  {
   "cell_type": "code",
   "execution_count": 12,
   "metadata": {},
   "outputs": [
    {
     "name": "stdout",
     "output_type": "stream",
     "text": [
      "                               GEE Regression Results                              \n",
      "===================================================================================\n",
      "Dep. Variable:                     Correct   No. Observations:                 6000\n",
      "Model:                                 GEE   No. clusters:                        8\n",
      "Method:                        Generalized   Min. cluster size:                 750\n",
      "                      Estimating Equations   Max. cluster size:                 750\n",
      "Family:                           Binomial   Mean cluster size:               750.0\n",
      "Dependence structure:       Autoregressive   Num. iterations:                     4\n",
      "Date:                     Thu, 09 Nov 2023   Scale:                           1.000\n",
      "Covariance type:                    robust   Time:                         17:28:46\n",
      "=========================================================================================\n",
      "                            coef    std err          z      P>|z|      [0.025      0.975]\n",
      "-----------------------------------------------------------------------------------------\n",
      "Intercept                 2.5531      0.283      9.021      0.000       1.998       3.108\n",
      "ContrastHeterogeneity    -2.6681      0.299     -8.925      0.000      -3.254      -2.082\n",
      "==============================================================================\n",
      "Skew:                         -0.8116   Kurtosis:                      -0.5850\n",
      "Centered skew:                -0.7752   Centered kurtosis:             -0.6073\n",
      "==============================================================================\n",
      "\n",
      "\n",
      "\n",
      "Wald Chi-Square:\n",
      "+-----------------------+-------------------+-----------------------+\n",
      "|        Variable       |     Chi-Square    |        p-value        |\n",
      "+-----------------------+-------------------+-----------------------+\n",
      "|       Intercept       | 81.37404602067258 | 1.867950334145996e-19 |\n",
      "| ContrastHeterogeneity | 79.65336024581457 |  4.46210388636782e-19 |\n",
      "+-----------------------+-------------------+-----------------------+\n"
     ]
    }
   ],
   "source": [
    "# select session\n",
    "session_data = experimental_data[experimental_data['SessionID'] == 7]\n",
    "\n",
    "# fit model\n",
    "model = smf.gee(\"Correct ~ ContrastHeterogeneity\", \"SubjectID\", session_data, cov_struct=covariance_structure, family=family)\n",
    "results = model.fit()\n",
    "\n",
    "# print results\n",
    "print(results.summary())\n",
    "print('\\n\\n')\n",
    "print_wald_chi_square(results)"
   ]
  },
  {
   "cell_type": "markdown",
   "metadata": {},
   "source": [
    "##### Session 8"
   ]
  },
  {
   "cell_type": "code",
   "execution_count": 13,
   "metadata": {},
   "outputs": [
    {
     "name": "stdout",
     "output_type": "stream",
     "text": [
      "                               GEE Regression Results                              \n",
      "===================================================================================\n",
      "Dep. Variable:                     Correct   No. Observations:                 6000\n",
      "Model:                                 GEE   No. clusters:                        8\n",
      "Method:                        Generalized   Min. cluster size:                 750\n",
      "                      Estimating Equations   Max. cluster size:                 750\n",
      "Family:                           Binomial   Mean cluster size:               750.0\n",
      "Dependence structure:       Autoregressive   Num. iterations:                     4\n",
      "Date:                     Thu, 09 Nov 2023   Scale:                           1.000\n",
      "Covariance type:                    robust   Time:                         17:28:46\n",
      "=========================================================================================\n",
      "                            coef    std err          z      P>|z|      [0.025      0.975]\n",
      "-----------------------------------------------------------------------------------------\n",
      "Intercept                 2.8654      0.364      7.881      0.000       2.153       3.578\n",
      "ContrastHeterogeneity    -3.1035      0.401     -7.746      0.000      -3.889      -2.318\n",
      "==============================================================================\n",
      "Skew:                         -0.7540   Kurtosis:                      -0.4570\n",
      "Centered skew:                -0.7067   Centered kurtosis:             -0.4884\n",
      "==============================================================================\n",
      "\n",
      "\n",
      "\n",
      "Wald Chi-Square:\n",
      "+-----------------------+--------------------+------------------------+\n",
      "|        Variable       |     Chi-Square     |        p-value         |\n",
      "+-----------------------+--------------------+------------------------+\n",
      "|       Intercept       | 62.11053893714244  | 3.2470898420992765e-15 |\n",
      "| ContrastHeterogeneity | 60.006740993899136 | 9.453305100090566e-15  |\n",
      "+-----------------------+--------------------+------------------------+\n"
     ]
    }
   ],
   "source": [
    "# select session\n",
    "session_data = experimental_data[experimental_data['SessionID'] == 8]\n",
    "\n",
    "# fit model\n",
    "model = smf.gee(\"Correct ~ ContrastHeterogeneity\", \"SubjectID\", session_data, cov_struct=covariance_structure, family=family)\n",
    "results = model.fit()\n",
    "\n",
    "# print results\n",
    "print(results.summary())\n",
    "print('\\n\\n')\n",
    "print_wald_chi_square(results)"
   ]
  },
  {
   "cell_type": "markdown",
   "metadata": {},
   "source": [
    "#### Equivalence Tests"
   ]
  },
  {
   "cell_type": "code",
   "execution_count": 15,
   "metadata": {},
   "outputs": [
    {
     "name": "stdout",
     "output_type": "stream",
     "text": [
      "0.06450000000000002\n"
     ]
    }
   ],
   "source": [
    "session_data = experimental_data[experimental_data['SessionID'] == 1]\n",
    "accuracy = session_data.groupby(['SubjectID']).mean()['Correct']\n",
    "equivalence_bound = bootstrap(accuracy, num_repeats=100000, percentile=95, abs_diff=True)"
   ]
  }
 ],
 "metadata": {
  "kernelspec": {
   "display_name": "kuramoto_env",
   "language": "python",
   "name": "python3"
  },
  "language_info": {
   "codemirror_mode": {
    "name": "ipython",
    "version": 3
   },
   "file_extension": ".py",
   "mimetype": "text/x-python",
   "name": "python",
   "nbconvert_exporter": "python",
   "pygments_lexer": "ipython3",
   "version": "3.12.0"
  }
 },
 "nbformat": 4,
 "nbformat_minor": 2
}
