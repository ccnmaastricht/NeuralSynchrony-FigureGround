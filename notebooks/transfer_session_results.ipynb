{
 "cells": [
  {
   "cell_type": "code",
   "execution_count": 1,
   "metadata": {},
   "outputs": [],
   "source": [
    "# Add the parent directory of the current working directory to the Python path at runtime. \n",
    "# In order to import modules from the src directory.\n",
    "import os\n",
    "import sys \n",
    "\n",
    "current_dir = os.getcwd()\n",
    "parent_dir = os.path.dirname(current_dir)\n",
    "sys.path.insert(0, parent_dir)"
   ]
  },
  {
   "cell_type": "code",
   "execution_count": 46,
   "metadata": {},
   "outputs": [
    {
     "name": "stdout",
     "output_type": "stream",
     "text": [
      "+---------+----------+-----------+---------+\n",
      "| Session |   AIC    | delta_AIC | weights |\n",
      "+---------+----------+-----------+---------+\n",
      "|    1    | 6897.89  |  193.307  |   0.0   |\n",
      "|    2    | 6754.255 |   49.672  |   0.0   |\n",
      "|    3    | 6704.583 |    0.0    |   1.0   |\n",
      "|    4    | 6783.152 |   78.569  |   0.0   |\n",
      "|    5    | 6934.071 |  229.488  |   0.0   |\n",
      "|    6    | 6995.431 |  290.848  |   0.0   |\n",
      "|    7    | 6943.181 |  238.598  |   0.0   |\n",
      "|    8    | 7042.512 |  337.929  |   0.0   |\n",
      "+---------+----------+-----------+---------+\n"
     ]
    }
   ],
   "source": [
    "import numpy as np\n",
    "from prettytable import PrettyTable\n",
    "\n",
    "data = np.load('../results/empirical/transfer_model_comparison.npz')\n",
    "\n",
    "columns = ['Session'] + list(data.keys())\n",
    "\n",
    "table = PrettyTable()\n",
    "table.field_names = columns\n",
    "\n",
    "# Transpose the data\n",
    "data_items = list(data.values())\n",
    "transposed_data = list(map(list, zip(*data_items)))\n",
    "\n",
    "# Round the data to 3 decimal places\n",
    "transposed_data = [[round(num, 3) for num in sublist] for sublist in transposed_data]\n",
    "\n",
    "# Add the data to the table\n",
    "[table.add_row([i + 1] + row) for i, row in enumerate(transposed_data)]\n",
    "\n",
    "print(table)"
   ]
  },
  {
   "cell_type": "markdown",
   "metadata": {},
   "source": [
    "The weight of a model (session) can be interpreted as the probability that it is the best model given the data and the set of candidate models."
   ]
  }
 ],
 "metadata": {
  "kernelspec": {
   "display_name": "bat_env",
   "language": "python",
   "name": "python3"
  },
  "language_info": {
   "codemirror_mode": {
    "name": "ipython",
    "version": 3
   },
   "file_extension": ".py",
   "mimetype": "text/x-python",
   "name": "python",
   "nbconvert_exporter": "python",
   "pygments_lexer": "ipython3",
   "version": "3.12.1"
  }
 },
 "nbformat": 4,
 "nbformat_minor": 2
}
