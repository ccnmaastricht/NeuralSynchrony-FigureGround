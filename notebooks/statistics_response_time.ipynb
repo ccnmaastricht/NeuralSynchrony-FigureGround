{
 "cells": [
  {
   "cell_type": "code",
   "execution_count": 1,
   "metadata": {},
   "outputs": [],
   "source": [
    "import os\n",
    "import sys \n",
    "\n",
    "current_dir = os.getcwd()\n",
    "parent_dir = os.path.dirname(current_dir)\n",
    "sys.path.insert(0, parent_dir)"
   ]
  },
  {
   "cell_type": "code",
   "execution_count": 2,
   "metadata": {},
   "outputs": [],
   "source": [
    "import pandas as pd\n",
    "import statsmodels.api as sm\n",
    "import statsmodels.formula.api as smf\n",
    "\n",
    "from src.stat_utils import *"
   ]
  },
  {
   "cell_type": "code",
   "execution_count": 3,
   "metadata": {},
   "outputs": [
    {
     "name": "stdout",
     "output_type": "stream",
     "text": [
      "8 particpants (6 female, mean age = 23.75, standard deviation = 6.453)\n"
     ]
    }
   ],
   "source": [
    "data_path = '../data/'\n",
    "experimental_data = pd.read_csv(data_path + 'experimental_data.csv')"
   ]
  },
  {
   "cell_type": "code",
   "execution_count": 4,
   "metadata": {},
   "outputs": [],
   "source": [
    "# define distribution and covariance structure for GEE\n",
    "family = sm.families.Gaussian()\n",
    "covariance_structure = sm.cov_struct.Autoregressive(grid=True)"
   ]
  },
  {
   "cell_type": "markdown",
   "metadata": {},
   "source": [
    "##### Full Model"
   ]
  },
  {
   "cell_type": "code",
   "execution_count": 5,
   "metadata": {},
   "outputs": [
    {
     "name": "stdout",
     "output_type": "stream",
     "text": [
      "                               GEE Regression Results                              \n",
      "===================================================================================\n",
      "Dep. Variable:                ResponseTime   No. Observations:                48000\n",
      "Model:                                 GEE   No. clusters:                        8\n",
      "Method:                        Generalized   Min. cluster size:                6000\n",
      "                      Estimating Equations   Max. cluster size:                6000\n",
      "Family:                           Gaussian   Mean cluster size:              6000.0\n",
      "Dependence structure:       Autoregressive   Num. iterations:                     5\n",
      "Date:                     Thu, 09 Nov 2023   Scale:                       23173.461\n",
      "Covariance type:                    robust   Time:                         15:20:20\n",
      "===================================================================================================\n",
      "                                      coef    std err          z      P>|z|      [0.025      0.975]\n",
      "---------------------------------------------------------------------------------------------------\n",
      "Intercept                         837.1884     34.683     24.138      0.000     769.210     905.167\n",
      "ContrastHeterogeneity              47.9499     16.308      2.940      0.003      15.987      79.913\n",
      "GridCoarseness                    -14.6099     26.698     -0.547      0.584     -66.938      37.718\n",
      "SessionID                         -21.0871      3.046     -6.922      0.000     -27.058     -15.117\n",
      "SessionID:ContrastHeterogeneity     9.7274      2.935      3.314      0.001       3.974      15.481\n",
      "SessionID:GridCoarseness            7.2492      3.435      2.110      0.035       0.517      13.982\n",
      "==============================================================================\n",
      "Skew:                         -0.4017   Kurtosis:                       1.2200\n",
      "Centered skew:                -0.3866   Centered kurtosis:              1.7830\n",
      "==============================================================================\n",
      "\n",
      "\n",
      "\n",
      "Wald Chi-Square:\n",
      "+---------------------------------+--------------------+------------------------+\n",
      "|             Variable            |     Chi-Square     |        p-value         |\n",
      "+---------------------------------+--------------------+------------------------+\n",
      "|            Intercept            |  582.64062166464   | 9.992956619498343e-129 |\n",
      "|      ContrastHeterogeneity      | 8.645125125555692  |  0.003279376157352232  |\n",
      "|          GridCoarseness         | 0.2994509575682481 |   0.5842268259221047   |\n",
      "|            SessionID            | 47.91963741286232  |  4.4405170658699e-12   |\n",
      "| SessionID:ContrastHeterogeneity | 10.981982878452431 | 0.0009200193964341379  |\n",
      "|     SessionID:GridCoarseness    | 4.453877249853073  |  0.03482209998377931   |\n",
      "+---------------------------------+--------------------+------------------------+\n"
     ]
    }
   ],
   "source": [
    "# ignore transfer (final) session\n",
    "data = experimental_data[experimental_data['SessionID'] != 9]\n",
    "\n",
    "# fit model\n",
    "model = smf.gee(\"ResponseTime ~ ContrastHeterogeneity + GridCoarseness + SessionID + SessionID*ContrastHeterogeneity + SessionID*GridCoarseness\", \"SubjectID\", data, cov_struct=covariance_structure, family=family)\n",
    "results = model.fit()\n",
    "\n",
    "# print results\n",
    "print(results.summary())\n",
    "print('\\n\\n')\n",
    "print_wald_chi_square(results)"
   ]
  },
  {
   "cell_type": "markdown",
   "metadata": {},
   "source": [
    "##### Simple Effects\n",
    "Session 1"
   ]
  },
  {
   "cell_type": "code",
   "execution_count": 6,
   "metadata": {},
   "outputs": [
    {
     "name": "stdout",
     "output_type": "stream",
     "text": [
      "                               GEE Regression Results                              \n",
      "===================================================================================\n",
      "Dep. Variable:                ResponseTime   No. Observations:                 6000\n",
      "Model:                                 GEE   No. clusters:                        8\n",
      "Method:                        Generalized   Min. cluster size:                 750\n",
      "                      Estimating Equations   Max. cluster size:                 750\n",
      "Family:                           Gaussian   Mean cluster size:               750.0\n",
      "Dependence structure:       Autoregressive   Num. iterations:                     5\n",
      "Date:                     Thu, 09 Nov 2023   Scale:                       28665.280\n",
      "Covariance type:                    robust   Time:                         15:20:20\n",
      "=========================================================================================\n",
      "                            coef    std err          z      P>|z|      [0.025      0.975]\n",
      "-----------------------------------------------------------------------------------------\n",
      "Intercept               860.5154     28.284     30.424      0.000     805.079     915.952\n",
      "ContrastHeterogeneity    51.9183     13.390      3.878      0.000      25.675      78.161\n",
      "GridCoarseness          -26.4531     23.947     -1.105      0.269     -73.389      20.482\n",
      "==============================================================================\n",
      "Skew:                         -0.7536   Kurtosis:                       2.0987\n",
      "Centered skew:                -0.7235   Centered kurtosis:              2.6755\n",
      "==============================================================================\n",
      "\n",
      "\n",
      "\n",
      "Wald Chi-Square:\n",
      "+-----------------------+--------------------+------------------------+\n",
      "|        Variable       |     Chi-Square     |        p-value         |\n",
      "+-----------------------+--------------------+------------------------+\n",
      "|       Intercept       | 925.6038527256843  | 2.666470052453752e-203 |\n",
      "| ContrastHeterogeneity | 15.035077239051258 | 0.00010553135815683532 |\n",
      "|     GridCoarseness    | 1.220238957047409  |  0.26931376170127547   |\n",
      "+-----------------------+--------------------+------------------------+\n"
     ]
    }
   ],
   "source": [
    "# select session\n",
    "session_data = experimental_data[experimental_data['SessionID'] == 1]\n",
    "\n",
    "# fit model\n",
    "model = smf.gee(\"ResponseTime ~ ContrastHeterogeneity + GridCoarseness\", \"SubjectID\", session_data, cov_struct=covariance_structure, family=family)\n",
    "results = model.fit()\n",
    "\n",
    "# print results\n",
    "print(results.summary())\n",
    "print('\\n\\n')\n",
    "print_wald_chi_square(results)"
   ]
  },
  {
   "cell_type": "markdown",
   "metadata": {},
   "source": [
    "##### Session 2"
   ]
  },
  {
   "cell_type": "code",
   "execution_count": 7,
   "metadata": {},
   "outputs": [
    {
     "name": "stdout",
     "output_type": "stream",
     "text": [
      "                               GEE Regression Results                              \n",
      "===================================================================================\n",
      "Dep. Variable:                ResponseTime   No. Observations:                 6000\n",
      "Model:                                 GEE   No. clusters:                        8\n",
      "Method:                        Generalized   Min. cluster size:                 750\n",
      "                      Estimating Equations   Max. cluster size:                 750\n",
      "Family:                           Gaussian   Mean cluster size:               750.0\n",
      "Dependence structure:       Autoregressive   Num. iterations:                     4\n",
      "Date:                     Thu, 09 Nov 2023   Scale:                       23037.512\n",
      "Covariance type:                    robust   Time:                         15:20:20\n",
      "=========================================================================================\n",
      "                            coef    std err          z      P>|z|      [0.025      0.975]\n",
      "-----------------------------------------------------------------------------------------\n",
      "Intercept               773.7868     32.276     23.974      0.000     710.528     837.046\n",
      "ContrastHeterogeneity    69.9477     19.077      3.667      0.000      32.557     107.338\n",
      "GridCoarseness           23.7317     21.924      1.082      0.279     -19.238      66.702\n",
      "==============================================================================\n",
      "Skew:                         -0.7726   Kurtosis:                       1.9826\n",
      "Centered skew:                -0.7728   Centered kurtosis:              2.7475\n",
      "==============================================================================\n",
      "\n",
      "\n",
      "\n",
      "Wald Chi-Square:\n",
      "+-----------------------+--------------------+------------------------+\n",
      "|        Variable       |     Chi-Square     |        p-value         |\n",
      "+-----------------------+--------------------+------------------------+\n",
      "|       Intercept       |  574.772374253584  | 5.142858067133038e-127 |\n",
      "| ContrastHeterogeneity | 13.443696119485402 | 0.0002458308174111973  |\n",
      "|     GridCoarseness    | 1.1717236878265351 |   0.2790473519680241   |\n",
      "+-----------------------+--------------------+------------------------+\n"
     ]
    }
   ],
   "source": [
    "# select session\n",
    "session_data = experimental_data[experimental_data['SessionID'] == 2]\n",
    "\n",
    "# fit model\n",
    "model = smf.gee(\"ResponseTime ~ ContrastHeterogeneity + GridCoarseness\", \"SubjectID\", session_data, cov_struct=covariance_structure, family=family)\n",
    "results = model.fit()\n",
    "\n",
    "# print results\n",
    "print(results.summary())\n",
    "print('\\n\\n')\n",
    "print_wald_chi_square(results)"
   ]
  },
  {
   "cell_type": "markdown",
   "metadata": {},
   "source": [
    "##### Session 3"
   ]
  },
  {
   "cell_type": "code",
   "execution_count": 8,
   "metadata": {},
   "outputs": [
    {
     "name": "stdout",
     "output_type": "stream",
     "text": [
      "                               GEE Regression Results                              \n",
      "===================================================================================\n",
      "Dep. Variable:                ResponseTime   No. Observations:                 6000\n",
      "Model:                                 GEE   No. clusters:                        8\n",
      "Method:                        Generalized   Min. cluster size:                 750\n",
      "                      Estimating Equations   Max. cluster size:                 750\n",
      "Family:                           Gaussian   Mean cluster size:               750.0\n",
      "Dependence structure:       Autoregressive   Num. iterations:                     4\n",
      "Date:                     Thu, 09 Nov 2023   Scale:                       25124.519\n",
      "Covariance type:                    robust   Time:                         15:20:21\n",
      "=========================================================================================\n",
      "                            coef    std err          z      P>|z|      [0.025      0.975]\n",
      "-----------------------------------------------------------------------------------------\n",
      "Intercept               746.8864     47.504     15.722      0.000     653.779     839.993\n",
      "ContrastHeterogeneity    73.0943     19.034      3.840      0.000      35.789     110.399\n",
      "GridCoarseness           10.4909     22.146      0.474      0.636     -32.915      53.896\n",
      "==============================================================================\n",
      "Skew:                         -0.4196   Kurtosis:                       1.2416\n",
      "Centered skew:                -0.4479   Centered kurtosis:              2.1598\n",
      "==============================================================================\n",
      "\n",
      "\n",
      "\n",
      "Wald Chi-Square:\n",
      "+-----------------------+---------------------+-----------------------+\n",
      "|        Variable       |      Chi-Square     |        p-value        |\n",
      "+-----------------------+---------------------+-----------------------+\n",
      "|       Intercept       |  247.1953244309244  | 1.061445731044617e-55 |\n",
      "| ContrastHeterogeneity |  14.747764639735992 | 0.0001228931388190062 |\n",
      "|     GridCoarseness    | 0.22440573836254565 |   0.6357032779153582  |\n",
      "+-----------------------+---------------------+-----------------------+\n"
     ]
    }
   ],
   "source": [
    "# select session\n",
    "session_data = experimental_data[experimental_data['SessionID'] == 3]\n",
    "\n",
    "# fit model\n",
    "model = smf.gee(\"ResponseTime ~ ContrastHeterogeneity + GridCoarseness\", \"SubjectID\", session_data, cov_struct=covariance_structure, family=family)\n",
    "results = model.fit()\n",
    "\n",
    "# print results\n",
    "print(results.summary())\n",
    "print('\\n\\n')\n",
    "print_wald_chi_square(results)"
   ]
  },
  {
   "cell_type": "markdown",
   "metadata": {},
   "source": [
    "##### Session 4"
   ]
  },
  {
   "cell_type": "code",
   "execution_count": 9,
   "metadata": {},
   "outputs": [
    {
     "name": "stdout",
     "output_type": "stream",
     "text": [
      "                               GEE Regression Results                              \n",
      "===================================================================================\n",
      "Dep. Variable:                ResponseTime   No. Observations:                 6000\n",
      "Model:                                 GEE   No. clusters:                        8\n",
      "Method:                        Generalized   Min. cluster size:                 750\n",
      "                      Estimating Equations   Max. cluster size:                 750\n",
      "Family:                           Gaussian   Mean cluster size:               750.0\n",
      "Dependence structure:       Autoregressive   Num. iterations:                     5\n",
      "Date:                     Thu, 09 Nov 2023   Scale:                       22294.224\n",
      "Covariance type:                    robust   Time:                         15:20:21\n",
      "=========================================================================================\n",
      "                            coef    std err          z      P>|z|      [0.025      0.975]\n",
      "-----------------------------------------------------------------------------------------\n",
      "Intercept               745.8704     39.099     19.076      0.000     669.238     822.503\n",
      "ContrastHeterogeneity    88.5453     17.512      5.056      0.000      54.223     122.868\n",
      "GridCoarseness            5.0633     23.347      0.217      0.828     -40.697      50.823\n",
      "==============================================================================\n",
      "Skew:                         -0.3651   Kurtosis:                       1.1265\n",
      "Centered skew:                -0.2904   Centered kurtosis:              1.6884\n",
      "==============================================================================\n",
      "\n",
      "\n",
      "\n",
      "Wald Chi-Square:\n",
      "+-----------------------+---------------------+------------------------+\n",
      "|        Variable       |      Chi-Square     |        p-value         |\n",
      "+-----------------------+---------------------+------------------------+\n",
      "|       Intercept       |  363.91040530447725 | 3.963848418710839e-81  |\n",
      "| ContrastHeterogeneity |  25.566102390499285 | 4.2748362471524826e-07 |\n",
      "|     GridCoarseness    | 0.04703237707927407 |   0.8283100527055716   |\n",
      "+-----------------------+---------------------+------------------------+\n"
     ]
    }
   ],
   "source": [
    "# select session\n",
    "session_data = experimental_data[experimental_data['SessionID'] == 4]\n",
    "\n",
    "# fit model\n",
    "model = smf.gee(\"ResponseTime ~ ContrastHeterogeneity + GridCoarseness\", \"SubjectID\", session_data, cov_struct=covariance_structure, family=family)\n",
    "results = model.fit()\n",
    "\n",
    "# print results\n",
    "print(results.summary())\n",
    "print('\\n\\n')\n",
    "print_wald_chi_square(results)"
   ]
  },
  {
   "cell_type": "markdown",
   "metadata": {},
   "source": [
    "##### Session 5"
   ]
  },
  {
   "cell_type": "code",
   "execution_count": 10,
   "metadata": {},
   "outputs": [
    {
     "name": "stdout",
     "output_type": "stream",
     "text": [
      "                               GEE Regression Results                              \n",
      "===================================================================================\n",
      "Dep. Variable:                ResponseTime   No. Observations:                 6000\n",
      "Model:                                 GEE   No. clusters:                        8\n",
      "Method:                        Generalized   Min. cluster size:                 750\n",
      "                      Estimating Equations   Max. cluster size:                 750\n",
      "Family:                           Gaussian   Mean cluster size:               750.0\n",
      "Dependence structure:       Autoregressive   Num. iterations:                     5\n",
      "Date:                     Thu, 09 Nov 2023   Scale:                       20529.034\n",
      "Covariance type:                    robust   Time:                         15:20:21\n",
      "=========================================================================================\n",
      "                            coef    std err          z      P>|z|      [0.025      0.975]\n",
      "-----------------------------------------------------------------------------------------\n",
      "Intercept               728.1879     37.505     19.416      0.000     654.680     801.696\n",
      "ContrastHeterogeneity   110.0896     25.770      4.272      0.000      59.582     160.597\n",
      "GridCoarseness           17.0765     20.088      0.850      0.395     -22.296      56.449\n",
      "==============================================================================\n",
      "Skew:                         -0.1461   Kurtosis:                       0.6641\n",
      "Centered skew:                -0.0535   Centered kurtosis:              0.9200\n",
      "==============================================================================\n",
      "\n",
      "\n",
      "\n",
      "Wald Chi-Square:\n",
      "+-----------------------+--------------------+------------------------+\n",
      "|        Variable       |     Chi-Square     |        p-value         |\n",
      "+-----------------------+--------------------+------------------------+\n",
      "|       Intercept       | 376.97256512098653 | 5.676599336445287e-84  |\n",
      "| ContrastHeterogeneity | 18.250747987668852 | 1.9364989028057873e-05 |\n",
      "|     GridCoarseness    | 0.7226098668315536 |  0.39528915763494854   |\n",
      "+-----------------------+--------------------+------------------------+\n"
     ]
    }
   ],
   "source": [
    "# select session\n",
    "session_data = experimental_data[experimental_data['SessionID'] == 5]\n",
    "\n",
    "# fit model\n",
    "model = smf.gee(\"ResponseTime ~ ContrastHeterogeneity + GridCoarseness\", \"SubjectID\", session_data, cov_struct=covariance_structure, family=family)\n",
    "results = model.fit()\n",
    "\n",
    "# print results\n",
    "print(results.summary())\n",
    "print('\\n\\n')\n",
    "print_wald_chi_square(results)"
   ]
  },
  {
   "cell_type": "markdown",
   "metadata": {},
   "source": [
    "##### Session 6"
   ]
  },
  {
   "cell_type": "code",
   "execution_count": 11,
   "metadata": {},
   "outputs": [
    {
     "name": "stdout",
     "output_type": "stream",
     "text": [
      "                               GEE Regression Results                              \n",
      "===================================================================================\n",
      "Dep. Variable:                ResponseTime   No. Observations:                 6000\n",
      "Model:                                 GEE   No. clusters:                        8\n",
      "Method:                        Generalized   Min. cluster size:                 750\n",
      "                      Estimating Equations   Max. cluster size:                 750\n",
      "Family:                           Gaussian   Mean cluster size:               750.0\n",
      "Dependence structure:       Autoregressive   Num. iterations:                     5\n",
      "Date:                     Thu, 09 Nov 2023   Scale:                       18511.102\n",
      "Covariance type:                    robust   Time:                         15:20:21\n",
      "=========================================================================================\n",
      "                            coef    std err          z      P>|z|      [0.025      0.975]\n",
      "-----------------------------------------------------------------------------------------\n",
      "Intercept               705.8938     34.360     20.544      0.000     638.549     773.239\n",
      "ContrastHeterogeneity   111.0529     25.064      4.431      0.000      61.928     160.177\n",
      "GridCoarseness           35.6031     14.586      2.441      0.015       7.015      64.191\n",
      "==============================================================================\n",
      "Skew:                         -0.0391   Kurtosis:                       0.1540\n",
      "Centered skew:                -0.0223   Centered kurtosis:              0.6791\n",
      "==============================================================================\n",
      "\n",
      "\n",
      "\n",
      "Wald Chi-Square:\n",
      "+-----------------------+--------------------+-----------------------+\n",
      "|        Variable       |     Chi-Square     |        p-value        |\n",
      "+-----------------------+--------------------+-----------------------+\n",
      "|       Intercept       | 422.0470292605017  | 8.747595410922776e-94 |\n",
      "| ContrastHeterogeneity | 19.631774325719565 | 9.389466560886702e-06 |\n",
      "|     GridCoarseness    | 5.958143948928972  |  0.014649455121439182 |\n",
      "+-----------------------+--------------------+-----------------------+\n"
     ]
    }
   ],
   "source": [
    "# select session\n",
    "session_data = experimental_data[experimental_data['SessionID'] == 6]\n",
    "\n",
    "# fit model\n",
    "model = smf.gee(\"ResponseTime ~ ContrastHeterogeneity + GridCoarseness\", \"SubjectID\", session_data, cov_struct=covariance_structure, family=family)\n",
    "results = model.fit()\n",
    "\n",
    "# print results\n",
    "print(results.summary())\n",
    "print('\\n\\n')\n",
    "print_wald_chi_square(results)"
   ]
  },
  {
   "cell_type": "markdown",
   "metadata": {},
   "source": [
    "##### Session 7"
   ]
  },
  {
   "cell_type": "code",
   "execution_count": 12,
   "metadata": {},
   "outputs": [
    {
     "name": "stdout",
     "output_type": "stream",
     "text": [
      "                               GEE Regression Results                              \n",
      "===================================================================================\n",
      "Dep. Variable:                ResponseTime   No. Observations:                 6000\n",
      "Model:                                 GEE   No. clusters:                        8\n",
      "Method:                        Generalized   Min. cluster size:                 750\n",
      "                      Estimating Equations   Max. cluster size:                 750\n",
      "Family:                           Gaussian   Mean cluster size:               750.0\n",
      "Dependence structure:       Autoregressive   Num. iterations:                     5\n",
      "Date:                     Thu, 09 Nov 2023   Scale:                       24598.157\n",
      "Covariance type:                    robust   Time:                         15:20:21\n",
      "=========================================================================================\n",
      "                            coef    std err          z      P>|z|      [0.025      0.975]\n",
      "-----------------------------------------------------------------------------------------\n",
      "Intercept               697.8866     35.452     19.686      0.000     628.403     767.370\n",
      "ContrastHeterogeneity   111.9545     27.149      4.124      0.000      58.744     165.165\n",
      "GridCoarseness           38.9347     14.084      2.764      0.006      11.330      66.539\n",
      "==============================================================================\n",
      "Skew:                         -0.3116   Kurtosis:                       0.5799\n",
      "Centered skew:                -0.4228   Centered kurtosis:              2.0178\n",
      "==============================================================================\n",
      "\n",
      "\n",
      "\n",
      "Wald Chi-Square:\n",
      "+-----------------------+-------------------+------------------------+\n",
      "|        Variable       |     Chi-Square    |        p-value         |\n",
      "+-----------------------+-------------------+------------------------+\n",
      "|       Intercept       | 387.5230012969427 | 2.8650171638373516e-86 |\n",
      "| ContrastHeterogeneity | 17.00542458346781 | 3.727317709789361e-05  |\n",
      "|     GridCoarseness    | 7.641946366034878 |  0.005702635077544118  |\n",
      "+-----------------------+-------------------+------------------------+\n"
     ]
    }
   ],
   "source": [
    "# select session\n",
    "session_data = experimental_data[experimental_data['SessionID'] == 7]\n",
    "\n",
    "# fit model\n",
    "model = smf.gee(\"ResponseTime ~ ContrastHeterogeneity + GridCoarseness\", \"SubjectID\", session_data, cov_struct=covariance_structure, family=family)\n",
    "results = model.fit()\n",
    "\n",
    "# print results\n",
    "print(results.summary())\n",
    "print('\\n\\n')\n",
    "print_wald_chi_square(results)"
   ]
  },
  {
   "cell_type": "markdown",
   "metadata": {},
   "source": [
    "##### Session 8"
   ]
  },
  {
   "cell_type": "code",
   "execution_count": 13,
   "metadata": {},
   "outputs": [
    {
     "name": "stdout",
     "output_type": "stream",
     "text": [
      "                               GEE Regression Results                              \n",
      "===================================================================================\n",
      "Dep. Variable:                ResponseTime   No. Observations:                 6000\n",
      "Model:                                 GEE   No. clusters:                        8\n",
      "Method:                        Generalized   Min. cluster size:                 750\n",
      "                      Estimating Equations   Max. cluster size:                 750\n",
      "Family:                           Gaussian   Mean cluster size:               750.0\n",
      "Dependence structure:       Autoregressive   Num. iterations:                     5\n",
      "Date:                     Thu, 09 Nov 2023   Scale:                       21117.310\n",
      "Covariance type:                    robust   Time:                         15:20:21\n",
      "=========================================================================================\n",
      "                            coef    std err          z      P>|z|      [0.025      0.975]\n",
      "-----------------------------------------------------------------------------------------\n",
      "Intercept               680.8731     35.071     19.414      0.000     612.135     749.611\n",
      "ContrastHeterogeneity   119.0372     24.493      4.860      0.000      71.031     167.043\n",
      "GridCoarseness           37.9371     17.055      2.224      0.026       4.511      71.363\n",
      "==============================================================================\n",
      "Skew:                         -0.1685   Kurtosis:                       0.8414\n",
      "Centered skew:                -0.2145   Centered kurtosis:              1.7554\n",
      "==============================================================================\n",
      "\n",
      "\n",
      "\n",
      "Wald Chi-Square:\n",
      "+-----------------------+--------------------+-----------------------+\n",
      "|        Variable       |     Chi-Square     |        p-value        |\n",
      "+-----------------------+--------------------+-----------------------+\n",
      "|       Intercept       | 376.9076443055062  |  5.86438969218992e-84 |\n",
      "| ContrastHeterogeneity | 23.619659812841306 | 1.173821042577512e-06 |\n",
      "|     GridCoarseness    | 4.948224548021614  |  0.02611747678201293  |\n",
      "+-----------------------+--------------------+-----------------------+\n"
     ]
    }
   ],
   "source": [
    "# select session\n",
    "session_data = experimental_data[experimental_data['SessionID'] == 8]\n",
    "\n",
    "# fit model\n",
    "model = smf.gee(\"ResponseTime ~ ContrastHeterogeneity + GridCoarseness\", \"SubjectID\", session_data, cov_struct=covariance_structure, family=family)\n",
    "results = model.fit()\n",
    "\n",
    "# print results\n",
    "print(results.summary())\n",
    "print('\\n\\n')\n",
    "print_wald_chi_square(results)"
   ]
  }
 ],
 "metadata": {
  "kernelspec": {
   "display_name": "kuramoto_env",
   "language": "python",
   "name": "python3"
  },
  "language_info": {
   "codemirror_mode": {
    "name": "ipython",
    "version": 3
   },
   "file_extension": ".py",
   "mimetype": "text/x-python",
   "name": "python",
   "nbconvert_exporter": "python",
   "pygments_lexer": "ipython3",
   "version": "3.12.0"
  }
 },
 "nbformat": 4,
 "nbformat_minor": 2
}
