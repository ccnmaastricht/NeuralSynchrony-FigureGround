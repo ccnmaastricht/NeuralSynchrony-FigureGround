{
 "cells": [
  {
   "cell_type": "code",
   "execution_count": 1,
   "metadata": {},
   "outputs": [],
   "source": [
    "# Add the parent directory of the current working directory to the Python path at runtime. \n",
    "# In order to import modules from the src directory.\n",
    "import os\n",
    "import sys \n",
    "\n",
    "current_dir = os.getcwd()\n",
    "parent_dir = os.path.dirname(current_dir)\n",
    "sys.path.insert(0, parent_dir)"
   ]
  },
  {
   "cell_type": "code",
   "execution_count": 2,
   "metadata": {},
   "outputs": [],
   "source": [
    "import tomllib\n",
    "import numpy as np\n",
    "import matplotlib.pyplot as plt\n",
    "\n",
    "from src.sim_utils import initialize_simulation_classes, setup_parallel_processing, generate_stimulus_conditions, generate_time_index\n",
    "from src.anl_utils import order_parameter, compute_phase_difference, compute_weighted_locking, expand_matrix\n",
    "\n",
    "from multiprocessing import Pool, Array"
   ]
  },
  {
   "cell_type": "code",
   "execution_count": 3,
   "metadata": {},
   "outputs": [],
   "source": [
    "def compute_frequency(contrast, parameters):\n",
    "    \"\"\"\n",
    "    Compute the frequency of the oscillation given the contrast and the parameters of the model.\n",
    "    \"\"\"\n",
    "    # Extract the parameters\n",
    "    contrast_slope = parameters['contrast_slope']\n",
    "    contrast_intercept = parameters['contrast_intercept']\n",
    "\n",
    "    # Compute the frequency\n",
    "    frequency = contrast_slope * contrast + contrast_intercept\n",
    "    angular_velocity = 2 * np.pi * frequency\n",
    "    return frequency, angular_velocity\n",
    "\n",
    "def load_configuration(filename):\n",
    "    \"\"\"\n",
    "    Load the configuration from a file.\n",
    "    \"\"\"\n",
    "    # Load the configuration\n",
    "    with open(filename, 'rb') as file:\n",
    "        configuration = tomllib.load(file)\n",
    "\n",
    "    # Return the configuration\n",
    "    return configuration\n",
    "\n",
    "def run_block(block, experiment_parameters, simulation_parameters,\n",
    "              stimulus_conditions, simulation_classes, sync_index):\n",
    "    \"\"\"\n",
    "    Run a block of the Arnold tongue. This function is used for parallel processing.\n",
    "\n",
    "    Parameters\n",
    "    ----------\n",
    "    block : int\n",
    "        The block number.\n",
    "    experiment_parameters : dict\n",
    "        The experiment parameters.\n",
    "    simulation_parameters : dict\n",
    "        The simulation parameters.\n",
    "    stimulus_conditions : tuple\n",
    "        The stimulus conditions.\n",
    "    simulation_classes : tuple\n",
    "        The simulation classes.\n",
    "    indexing : tuple\n",
    "        The indexing for synchronization.\n",
    "    \"\"\"\n",
    "    global arnold_tongue, locking\n",
    "\n",
    "    grid_coarseness, contrast_heterogeneity = stimulus_conditions\n",
    "    model, stimulus_generator = simulation_classes\n",
    "\n",
    "    np.random.seed(simulation_parameters['random_seed'] + block)\n",
    "\n",
    "    for condition, (scaling_factor, contrast_range) in enumerate(\n",
    "            zip(grid_coarseness, contrast_heterogeneity)):\n",
    "        stimulus = stimulus_generator.generate(\n",
    "            scaling_factor, contrast_range,\n",
    "            experiment_parameters['mean_contrast'])\n",
    "        model.compute_omega(stimulus.flatten())\n",
    "        state_variables, _ = model.simulate(simulation_parameters)\n",
    "        synchronization = np.abs(order_parameter(state_variables))\n",
    "        index = block * experiment_parameters['num_conditions'] + condition\n",
    "        arnold_tongue[index] = np.mean(synchronization[sync_index])\n",
    "\n",
    "\n",
    "def run_simulation(experiment_parameters, simulation_parameters,\n",
    "                   stimulus_conditions, simulation_classes, indexing):\n",
    "    \"\"\"\n",
    "    Run the simulation.\n",
    "\n",
    "    Parameters\n",
    "    ----------\n",
    "    experiment_parameters : dict\n",
    "        The experiment parameters.\n",
    "    simulation_parameters : dict\n",
    "        The simulation parameters.\n",
    "    stimulus_conditions : tuple\n",
    "        The stimulus conditions.\n",
    "    simulation_classes : tuple\n",
    "        The simulation classes.\n",
    "    indexing : tuple\n",
    "        The indexing for synchronization.\n",
    "        \n",
    "    Returns\n",
    "    -------\n",
    "    arnold_tongue : array_like\n",
    "        The Arnold tongue.\n",
    "    \"\"\"\n",
    "\n",
    "    global arnold_tongue, locking\n",
    "\n",
    "    # Initialize the Arnold tongue\n",
    "    arnold_tongue = np.zeros((experiment_parameters['num_blocks'],\n",
    "                              experiment_parameters['num_conditions']))\n",
    "    arnold_tongue = Array('d', arnold_tongue.reshape(-1))\n",
    "\n",
    "    # Run a batch of blocks in parallel\n",
    "    for batch in range(simulation_parameters['num_batches']):\n",
    "        with Pool(experiment_parameters['num_blocks']) as p:\n",
    "            p.starmap(\n",
    "                run_block,\n",
    "                [(block, experiment_parameters, simulation_parameters,\n",
    "                  stimulus_conditions, simulation_classes,\n",
    "                  indexing)\n",
    "                 for block in range(batch * simulation_parameters['num_cores'],\n",
    "                                    (batch + 1) *\n",
    "                                    simulation_parameters['num_cores'])])\n",
    "\n",
    "    # Collect simulation results\n",
    "    arnold_tongue = np.array(arnold_tongue).reshape(\n",
    "        experiment_parameters['num_blocks'],\n",
    "        experiment_parameters['num_conditions'])\n",
    "\n",
    "    return arnold_tongue"
   ]
  },
  {
   "cell_type": "code",
   "execution_count": 4,
   "metadata": {},
   "outputs": [],
   "source": [
    "model_config = '../config/simulation/model.toml'\n",
    "sim_config = '../config/simulation/simulation.toml'\n",
    "stimulus_config = '../config/simulation/stimulus.toml'\n",
    "experiment_config = '../config/analysis/experiment_actual.toml'\n",
    "\n",
    "\n",
    "model_parameters = load_configuration(model_config)\n",
    "simulation_parameters = load_configuration(sim_config)\n",
    "stimulus_parameters = load_configuration(stimulus_config)\n",
    "experiment_parameters = load_configuration(experiment_config)\n"
   ]
  },
  {
   "cell_type": "code",
   "execution_count": 25,
   "metadata": {},
   "outputs": [
    {
     "data": {
      "image/png": "[encoded data removed]",
      "text/plain": [
       "<Figure size 640x480 with 1 Axes>"
      ]
     },
     "metadata": {},
     "output_type": "display_data"
    }
   ],
   "source": [
    "session_1 = '../results/empirical/session_1'\n",
    "empirical_data = np.load(session_1 + '/average_bat.npy')\n",
    "plt.imshow(empirical_data, cmap='coolwarm')\n",
    "empirical_data = empirical_data.flatten()"
   ]
  },
  {
   "cell_type": "code",
   "execution_count": null,
   "metadata": {},
   "outputs": [],
   "source": [
    "session_8 = '../results/empirical/session_8'\n",
    "empirical_data = np.load(session_8 + '/average_bat.npy')\n",
    "plt.imshow(empirical_data, cmap='coolwarm')\n",
    "empirical_data = empirical_data.flatten()"
   ]
  },
  {
   "cell_type": "code",
   "execution_count": 6,
   "metadata": {},
   "outputs": [],
   "source": [
    "# Set up parallel processing\n",
    "simulation_parameters, experiment_parameters = setup_parallel_processing(simulation_parameters, experiment_parameters)\n",
    "simulation_parameters['num_cores'] = 10\n",
    "# Set up the stimulus conditions\n",
    "stimulus_conditions = generate_stimulus_conditions(experiment_parameters)\n",
    "# Set up the synchronization index and timepoint\n",
    "sync_index, _ = generate_time_index(simulation_parameters)"
   ]
  },
  {
   "cell_type": "code",
   "execution_count": 28,
   "metadata": {},
   "outputs": [
    {
     "name": "stdout",
     "output_type": "stream",
     "text": [
      "[0.1125 0.125  0.1375]\n",
      "Slope: 0.1125, Correlation: 0.924052703720511\n",
      "Slope: 0.125, Correlation: 0.9258858661951566\n",
      "Slope: 0.1375, Correlation: 0.9213744613483682\n"
     ]
    }
   ],
   "source": [
    "\n",
    "\n",
    "slopes = np.linspace(0.1, 0.15, 5)\n",
    "slopes = slopes[1:-1]\n",
    "print(slopes)\n",
    "corrs = np.zeros(3)\n",
    "\n",
    "for i, slope in enumerate(slopes):\n",
    "    model_parameters['contrast_slope'] = slope\n",
    "\n",
    "    # Initialize the model and stimulus generator\n",
    "    simulation_classes = initialize_simulation_classes(model_parameters,\n",
    "                                                        stimulus_parameters)\n",
    "\n",
    "    # Run the simulation\n",
    "    arnold_tongue = run_simulation(experiment_parameters, simulation_parameters,\n",
    "                                    stimulus_conditions, simulation_classes,\n",
    "                                    sync_index)\n",
    "\n",
    "    # Compute the correlation\n",
    "    corrs[i] = np.corrcoef(arnold_tongue.mean(axis=0), empirical_data)[0, 1]\n",
    "\n",
    "    print(f'Slope: {slope}, Correlation: {corrs[i]}')\n",
    "\n",
    "\n",
    "    "
   ]
  },
  {
   "cell_type": "code",
   "execution_count": 29,
   "metadata": {},
   "outputs": [
    {
     "data": {
      "text/plain": [
       "<matplotlib.image.AxesImage at 0x7f02ce711cd0>"
      ]
     },
     "execution_count": 29,
     "metadata": {},
     "output_type": "execute_result"
    },
    {
     "data": {
      "image/png": "[encoded data removed]",
      "text/plain": [
       "<Figure size 640x480 with 1 Axes>"
      ]
     },
     "metadata": {},
     "output_type": "display_data"
    }
   ],
   "source": [
    "first_session = 'Slope: 0.125, Correlation: 0.9258858661951566'\n",
    "fourth_session = 'Slope: 0.1, Correlation: 0.9614843824565608'\n",
    "last_session = 'Slope: 0.1125, Correlation: 0.973724176560302'\n",
    "AT = arnold_tongue.mean(axis=0).reshape(5, 5)\n",
    "plt.imshow(AT, cmap='coolwarm')"
   ]
  },
  {
   "cell_type": "code",
   "execution_count": 30,
   "metadata": {},
   "outputs": [
    {
     "data": {
      "text/plain": [
       "<matplotlib.image.AxesImage at 0x7f02d3ee9f40>"
      ]
     },
     "execution_count": 30,
     "metadata": {},
     "output_type": "execute_result"
    },
    {
     "data": {
      "image/png": "[encoded data removed]",
      "text/plain": [
       "<Figure size 640x480 with 1 Axes>"
      ]
     },
     "metadata": {},
     "output_type": "display_data"
    }
   ],
   "source": [
    "model_parameters['contrast_slope'] = 0.25\n",
    "\n",
    "# Initialize the model and stimulus generator\n",
    "simulation_classes = initialize_simulation_classes(model_parameters,\n",
    "                                                        stimulus_parameters)\n",
    "\n",
    "# Run the simulation\n",
    "arnold_tongue = run_simulation(experiment_parameters, simulation_parameters,\n",
    "                                    stimulus_conditions, simulation_classes,\n",
    "                                    sync_index)\n",
    "\n",
    "AT = arnold_tongue.mean(axis=0).reshape(5, 5)\n",
    "plt.imshow(AT, cmap='coolwarm')"
   ]
  }
 ],
 "metadata": {
  "kernelspec": {
   "display_name": "bat_env",
   "language": "python",
   "name": "python3"
  },
  "language_info": {
   "codemirror_mode": {
    "name": "ipython",
    "version": 3
   },
   "file_extension": ".py",
   "mimetype": "text/x-python",
   "name": "python",
   "nbconvert_exporter": "python",
   "pygments_lexer": "ipython3",
   "version": "3.12.0"
  }
 },
 "nbformat": 4,
 "nbformat_minor": 2
}
