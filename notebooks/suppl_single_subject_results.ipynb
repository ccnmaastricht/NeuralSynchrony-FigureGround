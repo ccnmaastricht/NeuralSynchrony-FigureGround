{
 "cells": [
  {
   "cell_type": "code",
   "execution_count": 5,
   "metadata": {},
   "outputs": [],
   "source": [
    "# Add the parent directory of the current working directory to the Python path at runtime. \n",
    "# In order to import modules from the src directory.\n",
    "import os\n",
    "import sys \n",
    "\n",
    "current_dir = os.getcwd()\n",
    "parent_dir = os.path.dirname(current_dir)\n",
    "sys.path.insert(0, parent_dir)"
   ]
  },
  {
   "cell_type": "code",
   "execution_count": 23,
   "metadata": {},
   "outputs": [],
   "source": [
    "import numpy as np\n",
    "from src.plot_utils import colored_heatmap, convert_size"
   ]
  },
  {
   "cell_type": "code",
   "execution_count": 18,
   "metadata": {},
   "outputs": [],
   "source": [
    "BASE_PATH = '../results/figures/suppl_one/'\n",
    "os.makedirs(BASE_PATH, exist_ok=True)\n",
    "individual_bats = np.load('../results/empirical/session_1/individual_bats.npy')\n",
    "num_subjects = individual_bats.shape[0]\n",
    "panel_labels = [chr(i) for i in range(ord('a'), ord('a') + num_subjects)]"
   ]
  },
  {
   "cell_type": "code",
   "execution_count": 25,
   "metadata": {},
   "outputs": [],
   "source": [
    "figsize = [89, 89]\n",
    "figsize = convert_size(*figsize)\n",
    "fontsizes = [0, 5, 5, 5]\n",
    "cmap = \"coolwarm\"\n",
    "labels = ['','Contrast heterogeneity', 'Grid coarseness', 'Accuracy']\n",
    "ticks = [[0.01, 0.25, 0.5, 0.75, 1.0], [1.0, 1.1, 1.2, 1.3, 1.4, 1.5]]\n",
    "bounds = [0.5, 1.0]"
   ]
  },
  {
   "cell_type": "code",
   "execution_count": 26,
   "metadata": {},
   "outputs": [],
   "source": [
    "for bat, label in zip(individual_bats, panel_labels):\n",
    "    filename = os.path.join(BASE_PATH, f'panel_{label}')\n",
    "\n",
    "    colored_heatmap(bat,\n",
    "                    figsize=figsize,\n",
    "                    labels=labels,\n",
    "                    fontsizes=fontsizes,\n",
    "                    ticks=ticks,\n",
    "                    bounds=bounds,\n",
    "                    colormap=cmap,\n",
    "                    filename=filename)"
   ]
  }
 ],
 "metadata": {
  "kernelspec": {
   "display_name": "bat_env",
   "language": "python",
   "name": "python3"
  },
  "language_info": {
   "codemirror_mode": {
    "name": "ipython",
    "version": 3
   },
   "file_extension": ".py",
   "mimetype": "text/x-python",
   "name": "python",
   "nbconvert_exporter": "python",
   "pygments_lexer": "ipython3",
   "version": "3.12.1"
  }
 },
 "nbformat": 4,
 "nbformat_minor": 2
}
