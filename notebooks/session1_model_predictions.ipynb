{
 "cells": [
  {
   "cell_type": "code",
   "execution_count": 1,
   "metadata": {},
   "outputs": [],
   "source": [
    "# Add the parent directory of the current working directory to the Python path at runtime. \n",
    "# In order to import modules from the src directory.\n",
    "import os\n",
    "import sys \n",
    "\n",
    "current_dir = os.getcwd()\n",
    "parent_dir = os.path.dirname(current_dir)\n",
    "sys.path.insert(0, parent_dir)"
   ]
  },
  {
   "cell_type": "code",
   "execution_count": 2,
   "metadata": {},
   "outputs": [],
   "source": [
    "import numpy as np\n",
    "import pandas as pd\n",
    "import statsmodels.api as sm\n",
    "import statsmodels.formula.api as smf\n",
    "from src.stat_utils import *\n",
    "from src.anl_utils import load_data, get_session_data"
   ]
  },
  {
   "cell_type": "code",
   "execution_count": 3,
   "metadata": {},
   "outputs": [],
   "source": [
    "sim_results_folder = '../results/simulation'\n",
    "data_folder = '../data'\n",
    "\n",
    "sim_at_file = os.path.join(sim_results_folder, 'highres_arnold_tongues.npy')\n",
    "emp_at_file = os.path.join(data_folder, 'Experiment.csv')"
   ]
  },
  {
   "cell_type": "markdown",
   "metadata": {},
   "source": [
    "### Use model as predictor of empirical results"
   ]
  },
  {
   "cell_type": "code",
   "execution_count": 4,
   "metadata": {},
   "outputs": [],
   "source": [
    "# Load the simulations results and the empirical data\n",
    "sim_results = np.load(sim_at_file)[0][:,::6, ::6]\n",
    "sim_results_vector = sim_results.mean(axis=0).flatten()\n",
    "\n",
    "data = load_data(emp_at_file)\n",
    "# Get the data for the first session\n",
    "data = get_session_data(data, 1)\n",
    "\n",
    "# Map synchrony values to each condition in your DataFrame\n",
    "data['Synchrony'] = data['Condition'].apply(lambda x: sim_results_vector[x-1])"
   ]
  },
  {
   "cell_type": "code",
   "execution_count": 5,
   "metadata": {},
   "outputs": [
    {
     "name": "stdout",
     "output_type": "stream",
     "text": [
      "                               GEE Regression Results                              \n",
      "===================================================================================\n",
      "Dep. Variable:                     Correct   No. Observations:                 6000\n",
      "Model:                                 GEE   No. clusters:                        8\n",
      "Method:                        Generalized   Min. cluster size:                 750\n",
      "                      Estimating Equations   Max. cluster size:                 750\n",
      "Family:                           Binomial   Mean cluster size:               750.0\n",
      "Dependence structure:         Exchangeable   Num. iterations:                     6\n",
      "Date:                     Wed, 17 Jul 2024   Scale:                           1.000\n",
      "Covariance type:                    robust   Time:                         13:38:24\n",
      "==============================================================================\n",
      "                 coef    std err          z      P>|z|      [0.025      0.975]\n",
      "------------------------------------------------------------------------------\n",
      "Intercept      0.1115      0.037      3.002      0.003       0.039       0.184\n",
      "Synchrony      1.9897      0.435      4.574      0.000       1.137       2.842\n",
      "==============================================================================\n",
      "Skew:                         -0.5240   Kurtosis:                      -1.4991\n",
      "Centered skew:                -0.4862   Centered kurtosis:             -1.4691\n",
      "==============================================================================\n"
     ]
    }
   ],
   "source": [
    "# Define distribution and covariance structure for GEE\n",
    "family = sm.families.Binomial()\n",
    "covariance_structure = sm.cov_struct.Exchangeable()\n",
    "\n",
    "# Fit the GEE model\n",
    "model = smf.gee(\"Correct ~ Synchrony\",\n",
    "                    \"SubjectID\",\n",
    "                    data,\n",
    "                    cov_struct=covariance_structure,\n",
    "                    family=family)\n",
    "results = model.fit()\n",
    "\n",
    "print(results.summary())"
   ]
  },
  {
   "cell_type": "code",
   "execution_count": 6,
   "metadata": {},
   "outputs": [
    {
     "name": "stdout",
     "output_type": "stream",
     "text": [
      "Wald Chi-Square:\n",
      "+-----------+--------------------+-----------------------+\n",
      "|  Variable |     Chi-Square     |        p-value        |\n",
      "+-----------+--------------------+-----------------------+\n",
      "| Intercept | 9.012156884475772  |  0.002681897414354512 |\n",
      "| Synchrony | 20.923917102628227 | 4.778904663696652e-06 |\n",
      "+-----------+--------------------+-----------------------+\n"
     ]
    }
   ],
   "source": [
    "print_wald_chi_square(results)"
   ]
  },
  {
   "cell_type": "markdown",
   "metadata": {},
   "source": [
    "### Analyze model in the same way as empirical results"
   ]
  },
  {
   "cell_type": "code",
   "execution_count": 7,
   "metadata": {},
   "outputs": [
    {
     "name": "stdout",
     "output_type": "stream",
     "text": [
      "Optimization terminated successfully.\n",
      "         Current function value: 0.282186\n",
      "         Iterations 7\n",
      "                           Logit Regression Results                           \n",
      "==============================================================================\n",
      "Dep. Variable:              Synchrony   No. Observations:                  750\n",
      "Model:                          Logit   Df Residuals:                      746\n",
      "Method:                           MLE   Df Model:                            3\n",
      "Date:                Wed, 17 Jul 2024   Pseudo R-squ.:                  0.4367\n",
      "Time:                        13:38:24   Log-Likelihood:                -211.64\n",
      "converged:                       True   LL-Null:                       -375.72\n",
      "Covariance Type:            nonrobust   LLR p-value:                 7.945e-71\n",
      "========================================================================================================\n",
      "                                           coef    std err          z      P>|z|      [0.025      0.975]\n",
      "--------------------------------------------------------------------------------------------------------\n",
      "Intercept                               17.0840      1.859      9.191      0.000      13.441      20.727\n",
      "ContrastHeterogeneity                  -12.7130      2.712     -4.688      0.000     -18.028      -7.397\n",
      "GridCoarseness                         -14.4719      1.572     -9.204      0.000     -17.554     -11.390\n",
      "ContrastHeterogeneity:GridCoarseness     9.4791      2.303      4.116      0.000       4.965      13.993\n",
      "========================================================================================================\n"
     ]
    }
   ],
   "source": [
    "# Create predictor variables\n",
    "min_contrast_heterogeneity = data['ContrastHeterogeneity'].min()\n",
    "max_contrast_heterogeneity = data['ContrastHeterogeneity'].max()\n",
    "min_grid_coarseness = data['GridCoarseness'].min()\n",
    "max_grid_coarseness = data['GridCoarseness'].max()\n",
    "\n",
    "# Create meshgrid for predictors\n",
    "num_blocks, num_grid_coarseness, num_contrast_heterogeneity = sim_results.shape\n",
    "grid_coarseness, contrast_heterogeneity = np.meshgrid(\n",
    "    np.linspace(min_grid_coarseness, max_grid_coarseness, num_grid_coarseness),\n",
    "    np.linspace(min_contrast_heterogeneity, max_contrast_heterogeneity, num_contrast_heterogeneity)\n",
    ")\n",
    "\n",
    "# Expand predictors to match sim_results shape\n",
    "grid_coarseness_expanded = np.broadcast_to(grid_coarseness, sim_results.shape)\n",
    "contrast_heterogeneity_expanded = np.broadcast_to(contrast_heterogeneity, sim_results.shape)\n",
    "\n",
    "# Create DataFrame\n",
    "df = pd.DataFrame({\n",
    "    'Synchrony': sim_results.ravel(),\n",
    "    'ContrastHeterogeneity': contrast_heterogeneity_expanded.ravel(),\n",
    "    'GridCoarseness': grid_coarseness_expanded.ravel()\n",
    "})\n",
    "\n",
    "# Fit logistic regression model\n",
    "model = smf.logit(\"Synchrony ~ ContrastHeterogeneity + GridCoarseness + ContrastHeterogeneity*GridCoarseness\", data=df)\n",
    "results = model.fit()\n",
    "print(results.summary())"
   ]
  }
 ],
 "metadata": {
  "kernelspec": {
   "display_name": "bat_env",
   "language": "python",
   "name": "python3"
  },
  "language_info": {
   "codemirror_mode": {
    "name": "ipython",
    "version": 3
   },
   "file_extension": ".py",
   "mimetype": "text/x-python",
   "name": "python",
   "nbconvert_exporter": "python",
   "pygments_lexer": "ipython3",
   "version": "3.12.1"
  }
 },
 "nbformat": 4,
 "nbformat_minor": 2
}
