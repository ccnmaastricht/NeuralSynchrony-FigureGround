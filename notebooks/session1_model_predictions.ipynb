{
 "cells": [
  {
   "cell_type": "code",
   "execution_count": 1,
   "metadata": {},
   "outputs": [],
   "source": [
    "# Add the parent directory of the current working directory to the Python path at runtime. \n",
    "# In order to import modules from the src directory.\n",
    "import os\n",
    "import sys \n",
    "\n",
    "current_dir = os.getcwd()\n",
    "parent_dir = os.path.dirname(current_dir)\n",
    "sys.path.insert(0, parent_dir)"
   ]
  },
  {
   "cell_type": "code",
   "execution_count": 7,
   "metadata": {},
   "outputs": [],
   "source": [
    "import numpy as np\n",
    "import statsmodels.api as sm\n",
    "import statsmodels.formula.api as smf\n",
    "from src.stat_utils import *\n",
    "from src.anl_utils import load_data, get_session_data"
   ]
  },
  {
   "cell_type": "code",
   "execution_count": 3,
   "metadata": {},
   "outputs": [],
   "source": [
    "sim_results_folder = '../results/simulation'\n",
    "data_folder = '../data'\n",
    "\n",
    "sim_at_file = os.path.join(sim_results_folder, 'highres_arnold_tongues.npy')\n",
    "emp_at_file = os.path.join(data_folder, 'Experiment.csv')"
   ]
  },
  {
   "cell_type": "code",
   "execution_count": 9,
   "metadata": {},
   "outputs": [],
   "source": [
    "# Load the simulations results and the empirical data\n",
    "sim_results = np.load(sim_at_file)[0].mean(axis=0)[::6, ::6]\n",
    "sim_results_vector = sim_results.flatten()\n",
    "\n",
    "data = load_data(emp_at_file)\n",
    "# Get the data for the first session\n",
    "data = get_session_data(data, 1)\n",
    "\n",
    "# Map synchrony values to each condition in your DataFrame\n",
    "data['Synchrony'] = data['Condition'].apply(lambda x: sim_results_vector[x-1])"
   ]
  },
  {
   "cell_type": "code",
   "execution_count": 10,
   "metadata": {},
   "outputs": [
    {
     "name": "stdout",
     "output_type": "stream",
     "text": [
      "                               GEE Regression Results                              \n",
      "===================================================================================\n",
      "Dep. Variable:                     Correct   No. Observations:                 6000\n",
      "Model:                                 GEE   No. clusters:                        8\n",
      "Method:                        Generalized   Min. cluster size:                 750\n",
      "                      Estimating Equations   Max. cluster size:                 750\n",
      "Family:                           Binomial   Mean cluster size:               750.0\n",
      "Dependence structure:         Exchangeable   Num. iterations:                     6\n",
      "Date:                     Wed, 05 Jun 2024   Scale:                           1.000\n",
      "Covariance type:                    robust   Time:                         12:53:09\n",
      "==============================================================================\n",
      "                 coef    std err          z      P>|z|      [0.025      0.975]\n",
      "------------------------------------------------------------------------------\n",
      "Intercept      0.1115      0.037      3.002      0.003       0.039       0.184\n",
      "Synchrony      1.9897      0.435      4.574      0.000       1.137       2.842\n",
      "==============================================================================\n",
      "Skew:                         -0.5240   Kurtosis:                      -1.4991\n",
      "Centered skew:                -0.4862   Centered kurtosis:             -1.4691\n",
      "==============================================================================\n"
     ]
    }
   ],
   "source": [
    "# Define distribution and covariance structure for GEE\n",
    "family = sm.families.Binomial()\n",
    "covariance_structure = sm.cov_struct.Exchangeable()\n",
    "\n",
    "# Fit the GEE model\n",
    "model = smf.gee(\"Correct ~ Synchrony\",\n",
    "                    \"SubjectID\",\n",
    "                    data,\n",
    "                    cov_struct=covariance_structure,\n",
    "                    family=family)\n",
    "results = model.fit()\n",
    "\n",
    "print(results.summary())"
   ]
  },
  {
   "cell_type": "code",
   "execution_count": 11,
   "metadata": {},
   "outputs": [
    {
     "name": "stdout",
     "output_type": "stream",
     "text": [
      "Wald Chi-Square:\n",
      "+-----------+--------------------+-----------------------+\n",
      "|  Variable |     Chi-Square     |        p-value        |\n",
      "+-----------+--------------------+-----------------------+\n",
      "| Intercept | 9.012156884475772  |  0.002681897414354512 |\n",
      "| Synchrony | 20.923917102628227 | 4.778904663696652e-06 |\n",
      "+-----------+--------------------+-----------------------+\n"
     ]
    }
   ],
   "source": [
    "print_wald_chi_square(results)"
   ]
  }
 ],
 "metadata": {
  "kernelspec": {
   "display_name": "bat_env",
   "language": "python",
   "name": "python3"
  },
  "language_info": {
   "codemirror_mode": {
    "name": "ipython",
    "version": 3
   },
   "file_extension": ".py",
   "mimetype": "text/x-python",
   "name": "python",
   "nbconvert_exporter": "python",
   "pygments_lexer": "ipython3",
   "version": "3.12.1"
  }
 },
 "nbformat": 4,
 "nbformat_minor": 2
}
