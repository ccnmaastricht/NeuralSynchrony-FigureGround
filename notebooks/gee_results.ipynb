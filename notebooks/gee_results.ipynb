{
 "cells": [
  {
   "cell_type": "markdown",
   "metadata": {},
   "source": [
    "This notebook loads and displays the results of the GEE analyses."
   ]
  },
  {
   "cell_type": "code",
   "execution_count": 1,
   "metadata": {},
   "outputs": [],
   "source": [
    "# Add the parent directory of the current working directory to the Python path at runtime. \n",
    "# In order to import modules from the src directory.\n",
    "import os\n",
    "import sys \n",
    "\n",
    "current_dir = os.getcwd()\n",
    "parent_dir = os.path.dirname(current_dir)\n",
    "sys.path.insert(0, parent_dir)"
   ]
  },
  {
   "cell_type": "code",
   "execution_count": 2,
   "metadata": {},
   "outputs": [],
   "source": [
    "import glob\n",
    "import pickle\n",
    "from prettytable import PrettyTable\n",
    "from src.stat_utils import *\n",
    "\n",
    "results_dir = os.path.join(parent_dir, 'results/statistics')\n",
    "first_model_file = os.path.join(results_dir, 'gee_first.pkl')\n",
    "full_model_file = os.path.join(results_dir, 'gee_full.pkl')"
   ]
  },
  {
   "cell_type": "code",
   "execution_count": 3,
   "metadata": {},
   "outputs": [],
   "source": [
    "def add_row_to_table(session, results, table):\n",
    "    predictors = results.model.exog_names\n",
    "    for i, predictor in enumerate(predictors):\n",
    "        coefficient = results.params[predictor]\n",
    "        confidence_interval = [results.conf_int()[0][predictor], results.conf_int()[1][predictor]]\n",
    "        standard_error = results.standard_errors()[i]\n",
    "        wald = results.wald_test(predictor, scalar=True)\n",
    "        chi = wald.statistic\n",
    "        pvalue = wald.pvalue\n",
    "        table.add_row([session, predictor, coefficient, confidence_interval, standard_error, chi, pvalue])\n",
    "\n",
    "    return table"
   ]
  },
  {
   "cell_type": "markdown",
   "metadata": {},
   "source": [
    "### Results of first session model"
   ]
  },
  {
   "cell_type": "code",
   "execution_count": 4,
   "metadata": {},
   "outputs": [
    {
     "name": "stdout",
     "output_type": "stream",
     "text": [
      "                               GEE Regression Results                              \n",
      "===================================================================================\n",
      "Dep. Variable:                     Correct   No. Observations:                 6000\n",
      "Model:                                 GEE   No. clusters:                        8\n",
      "Method:                        Generalized   Min. cluster size:                 750\n",
      "                      Estimating Equations   Max. cluster size:                 750\n",
      "Family:                           Binomial   Mean cluster size:               750.0\n",
      "Dependence structure:         Exchangeable   Num. iterations:                     6\n",
      "Date:                     Wed, 17 Jul 2024   Scale:                           1.000\n",
      "Covariance type:                    robust   Time:                         14:37:22\n",
      "========================================================================================================\n",
      "                                           coef    std err          z      P>|z|      [0.025      0.975]\n",
      "--------------------------------------------------------------------------------------------------------\n",
      "Intercept                                5.1871      1.127      4.605      0.000       2.979       7.395\n",
      "ContrastHeterogeneity                   -5.6445      1.317     -4.285      0.000      -8.226      -3.063\n",
      "GridCoarseness                          -2.9986      0.711     -4.216      0.000      -4.393      -1.605\n",
      "ContrastHeterogeneity:GridCoarseness     3.2903      0.842      3.907      0.000       1.640       4.941\n",
      "==============================================================================\n",
      "Skew:                         -0.5220   Kurtosis:                      -1.4335\n",
      "Centered skew:                -0.4784   Centered kurtosis:             -1.4051\n",
      "==============================================================================\n"
     ]
    }
   ],
   "source": [
    "with open(first_model_file, 'rb') as f:\n",
    "    gee_first = pickle.load(f)\n",
    "\n",
    "print(gee_first.summary())"
   ]
  },
  {
   "cell_type": "code",
   "execution_count": 5,
   "metadata": {},
   "outputs": [
    {
     "name": "stdout",
     "output_type": "stream",
     "text": [
      "Wald Chi-Square:\n",
      "+--------------------------------------+--------------------+------------------------+\n",
      "|               Variable               |     Chi-Square     |        p-value         |\n",
      "+--------------------------------------+--------------------+------------------------+\n",
      "|              Intercept               | 21.201510214322358 | 4.134386106069118e-06  |\n",
      "|        ContrastHeterogeneity         | 18.361082803614064 | 1.8275282694086964e-05 |\n",
      "|            GridCoarseness            | 17.777698465296414 | 2.4827641305959744e-05 |\n",
      "| ContrastHeterogeneity:GridCoarseness | 15.26688399705535  | 9.333864182752107e-05  |\n",
      "+--------------------------------------+--------------------+------------------------+\n"
     ]
    }
   ],
   "source": [
    "print_wald_chi_square(gee_first)"
   ]
  },
  {
   "cell_type": "markdown",
   "metadata": {},
   "source": [
    "### Results of full model"
   ]
  },
  {
   "cell_type": "code",
   "execution_count": 6,
   "metadata": {},
   "outputs": [
    {
     "name": "stdout",
     "output_type": "stream",
     "text": [
      "                               GEE Regression Results                              \n",
      "===================================================================================\n",
      "Dep. Variable:                     Correct   No. Observations:                48000\n",
      "Model:                                 GEE   No. clusters:                        8\n",
      "Method:                        Generalized   Min. cluster size:                6000\n",
      "                      Estimating Equations   Max. cluster size:                6000\n",
      "Family:                           Binomial   Mean cluster size:              6000.0\n",
      "Dependence structure:         Exchangeable   Num. iterations:                    15\n",
      "Date:                     Wed, 17 Jul 2024   Scale:                           1.000\n",
      "Covariance type:                    robust   Time:                         14:37:22\n",
      "========================================================================================================\n",
      "                                           coef    std err          z      P>|z|      [0.025      0.975]\n",
      "--------------------------------------------------------------------------------------------------------\n",
      "Intercept                                5.2026      0.480     10.849      0.000       4.263       6.142\n",
      "ContrastHeterogeneity                   -6.0566      0.494    -12.255      0.000      -7.025      -5.088\n",
      "GridCoarseness                          -3.1893      0.282    -11.300      0.000      -3.742      -2.636\n",
      "SessionID                                0.2229      0.041      5.469      0.000       0.143       0.303\n",
      "SessionID:ContrastHeterogeneity         -0.1941      0.023     -8.460      0.000      -0.239      -0.149\n",
      "SessionID:GridCoarseness                -0.0359      0.030     -1.188      0.235      -0.095       0.023\n",
      "ContrastHeterogeneity:GridCoarseness     3.6646      0.282     13.011      0.000       3.113       4.217\n",
      "==============================================================================\n",
      "Skew:                         -0.6844   Kurtosis:                      -0.8610\n",
      "Centered skew:                -0.6352   Centered kurtosis:             -0.8670\n",
      "==============================================================================\n"
     ]
    }
   ],
   "source": [
    "with open(full_model_file, 'rb') as f:\n",
    "    gee_full = pickle.load(f)\n",
    "\n",
    "print(gee_full.summary())"
   ]
  },
  {
   "cell_type": "code",
   "execution_count": 7,
   "metadata": {},
   "outputs": [
    {
     "name": "stdout",
     "output_type": "stream",
     "text": [
      "Wald Chi-Square:\n",
      "+--------------------------------------+--------------------+------------------------+\n",
      "|               Variable               |     Chi-Square     |        p-value         |\n",
      "+--------------------------------------+--------------------+------------------------+\n",
      "|              Intercept               | 117.69888757712704 | 2.018136699568119e-27  |\n",
      "|        ContrastHeterogeneity         | 150.17554736209928 | 1.5870455850608488e-34 |\n",
      "|            GridCoarseness            | 127.6901266521975  | 1.3120962546709636e-29 |\n",
      "|              SessionID               | 29.911719884031275 | 4.521713783939351e-08  |\n",
      "|   SessionID:ContrastHeterogeneity    | 71.56806961754121  | 2.6785634689184098e-17 |\n",
      "|       SessionID:GridCoarseness       | 1.4108291925000898 |   0.2349187913464244   |\n",
      "| ContrastHeterogeneity:GridCoarseness | 169.2756434277779  | 1.0650625639784129e-38 |\n",
      "+--------------------------------------+--------------------+------------------------+\n"
     ]
    }
   ],
   "source": [
    "print_wald_chi_square(gee_full)"
   ]
  },
  {
   "cell_type": "markdown",
   "metadata": {},
   "source": [
    "### Simple effects for significant interactions"
   ]
  },
  {
   "cell_type": "code",
   "execution_count": 9,
   "metadata": {},
   "outputs": [
    {
     "name": "stdout",
     "output_type": "stream",
     "text": [
      "+---------+-----------------------+---------------------+--------------------------------------------+---------------------+--------------------+------------------------+\n",
      "| session |       predictor       |   beta-coefficient  |          95% confidence interval           |      sdt error      |  Wald chi-square   |        P-value         |\n",
      "+---------+-----------------------+---------------------+--------------------------------------------+---------------------+--------------------+------------------------+\n",
      "|    1    |       Intercept       |  1.374067759974428  |  [0.8504068762125688, 1.8977286437362872]  | 0.26717882976035756 | 26.44918004561104  | 2.705633034243971e-07  |\n",
      "|    1    | ContrastHeterogeneity | -1.4584335093863061 | [-2.019373649151089, -0.8974933696215229]  | 0.28619920783718855 | 25.96787510849494  | 3.471461615896075e-07  |\n",
      "|    2    |       Intercept       |  1.9753286295858794 |  [1.3820671746272157, 2.5685900845445433]  | 0.30268997779460965 |  42.5875477503321  | 6.758829423641517e-11  |\n",
      "|    2    | ContrastHeterogeneity |  -2.004631368760057 | [-2.7148236704546744, -1.2944390670654395] | 0.36234966932888757 | 30.606474383917227 | 3.1603737383895106e-08 |\n",
      "|    3    |       Intercept       |  2.230038727221229  |  [1.6497770647454808, 2.810300389696977]   |  0.2960573087325982 | 56.737897244678436 | 4.979461034570475e-14  |\n",
      "|    3    | ContrastHeterogeneity | -2.3164232974684107 | [-2.9113408033401633, -1.7215057915966578] | 0.30353491725582016 | 58.23962009879802  | 2.320581472684147e-14  |\n",
      "|    4    |       Intercept       |  2.239152998000867  |  [1.5987084491852164, 2.879597546816518]   |  0.3267634272197834 |  46.9570336096437  | 7.256011731138102e-12  |\n",
      "|    4    | ContrastHeterogeneity | -2.2712872871912966 | [-3.0126177153158857, -1.5299568590667074] |  0.3782367604568803 | 36.05924835618914  | 1.9140817753741745e-09 |\n",
      "|    5    |       Intercept       |  2.402292827916877  |  [1.685867319201137, 3.1187183366326168]   |  0.3655299354308615 | 43.19226608705642  | 4.961641522620448e-11  |\n",
      "|    5    | ContrastHeterogeneity | -2.4798331027142684 | [-3.395464450547653, -1.5642017548808835]  | 0.46716743524665155 | 28.177326365426218 | 1.1069372609445522e-07 |\n",
      "|    6    |       Intercept       |  2.573488190208076  |  [1.860323848254334, 3.2866525321618183]   | 0.36386604426361485 | 50.02202862402709  | 1.5202960074543608e-12 |\n",
      "|    6    | ContrastHeterogeneity | -2.7348974691363033 | [-3.490734864339479, -1.9790600739331277]  | 0.38563841027953816 | 50.294619965491144 | 1.3231178593523995e-12 |\n",
      "|    7    |       Intercept       |  2.5224194780235205 |  [1.9978585003367075, 3.0469804557103335]  | 0.26763806979336513 | 88.82574210581855  | 4.3116852886986666e-21 |\n",
      "|    7    | ContrastHeterogeneity | -2.6565020883446158 |  [-3.2152192259025214, -2.09778495078671]  |  0.2850650021964665 | 86.84254051822637  | 1.1751442682233788e-20 |\n",
      "|    8    |       Intercept       |  2.6841519665846443 |  [2.0847445471701076, 3.283559385999181]   | 0.30582573156577664 | 77.03110965798697  | 1.682861502370268e-18  |\n",
      "|    8    | ContrastHeterogeneity | -3.0107399212036428 | [-3.688691783506194, -2.3327880589010914]  | 0.34590016329389167 | 75.76086913366801  | 3.2018378099823773e-18 |\n",
      "+---------+-----------------------+---------------------+--------------------------------------------+---------------------+--------------------+------------------------+\n"
     ]
    }
   ],
   "source": [
    "table = PrettyTable()\n",
    "table.field_names = ['session', 'predictor', 'beta-coefficient', '95% confidence interval', 'sdt error', 'Wald chi-square', 'P-value']\n",
    "\n",
    "files = glob.glob(os.path.join(results_dir, 'gee_*.pkl'))\n",
    "files.remove(full_model_file)\n",
    "files.remove(first_model_file)\n",
    "files = sorted(files)\n",
    "\n",
    "for i, file in enumerate(sorted(files)):\n",
    "    with open(file, 'rb') as f:\n",
    "        results = pickle.load(f)\n",
    "    table = add_row_to_table(i + 1, results, table)\n",
    "\n",
    "\n",
    "print(table)"
   ]
  }
 ],
 "metadata": {
  "kernelspec": {
   "display_name": "bat_env",
   "language": "python",
   "name": "python3"
  },
  "language_info": {
   "codemirror_mode": {
    "name": "ipython",
    "version": 3
   },
   "file_extension": ".py",
   "mimetype": "text/x-python",
   "name": "python",
   "nbconvert_exporter": "python",
   "pygments_lexer": "ipython3",
   "version": "3.12.1"
  }
 },
 "nbformat": 4,
 "nbformat_minor": 2
}
