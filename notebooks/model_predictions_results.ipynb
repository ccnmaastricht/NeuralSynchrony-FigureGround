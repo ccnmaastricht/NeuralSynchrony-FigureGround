{
 "cells": [
  {
   "cell_type": "markdown",
   "metadata": {},
   "source": [
    "This notebook loads and displays the results of the mixed effects analysis"
   ]
  },
  {
   "cell_type": "code",
   "execution_count": 1,
   "metadata": {},
   "outputs": [],
   "source": [
    "# Add the parent directory of the current working directory to the Python path at runtime. \n",
    "# In order to import modules from the src directory.\n",
    "import os\n",
    "import sys \n",
    "\n",
    "current_dir = os.getcwd()\n",
    "parent_dir = os.path.dirname(current_dir)\n",
    "sys.path.insert(0, parent_dir)"
   ]
  },
  {
   "cell_type": "code",
   "execution_count": 6,
   "metadata": {},
   "outputs": [
    {
     "name": "stdout",
     "output_type": "stream",
     "text": [
      "           Mixed Linear Model Regression Results\n",
      "============================================================\n",
      "Model:            MixedLM Dependent Variable: empirical_size\n",
      "No. Observations: 48      Method:             REML          \n",
      "No. Groups:       8       Scale:              0.0002        \n",
      "Min. group size:  6       Log-Likelihood:     122.7728      \n",
      "Max. group size:  6       Converged:          Yes           \n",
      "Mean group size:  6.0                                       \n",
      "-------------------------------------------------------------\n",
      "                Coef.  Std.Err.    z    P>|z|  [0.025  0.975]\n",
      "-------------------------------------------------------------\n",
      "Intercept       0.238     0.050  4.798  0.000   0.141   0.335\n",
      "model_size      0.765     0.292  2.621  0.009   0.193   1.338\n",
      "Group Var       0.001     0.064                              \n",
      "============================================================\n",
      "\n"
     ]
    }
   ],
   "source": [
    "import pickle\n",
    "from src.stat_utils import *\n",
    "\n",
    "model_file = '../results/statistics/mixed_effects_bat_size.pkl'\n",
    "\n",
    "results = pickle.load(open(model_file, 'rb'))\n",
    "print(results.summary())"
   ]
  }
 ],
 "metadata": {
  "kernelspec": {
   "display_name": "bat_env",
   "language": "python",
   "name": "python3"
  },
  "language_info": {
   "codemirror_mode": {
    "name": "ipython",
    "version": 3
   },
   "file_extension": ".py",
   "mimetype": "text/x-python",
   "name": "python",
   "nbconvert_exporter": "python",
   "pygments_lexer": "ipython3",
   "version": "3.12.0"
  }
 },
 "nbformat": 4,
 "nbformat_minor": 2
}
